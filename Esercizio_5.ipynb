{
  "nbformat": 4,
  "nbformat_minor": 0,
  "metadata": {
    "colab": {
      "name": "Esercizio 5.ipynb",
      "provenance": [],
      "collapsed_sections": []
    },
    "kernelspec": {
      "name": "python3",
      "display_name": "Python 3"
    },
    "language_info": {
      "name": "python"
    }
  },
  "cells": [
    {
      "cell_type": "markdown",
      "metadata": {
        "id": "6IYMb5Tb7uAv"
      },
      "source": [
        "1. scrivere una funzione chiamata max che dati due numeri restituisca il più grande. Scrivere poi un programma che, utilizzando la funzione creata, trovi il massimo tra tre numeri inseriti dall'utente. \n"
      ]
    },
    {
      "cell_type": "code",
      "metadata": {
        "id": "P0juo5uX7weX"
      },
      "source": [
        "def max(a, b):\n",
        "  return a if a > b else b\n",
        "\n",
        "\n",
        "num1 = int(input(\"scegli il primo valore: \"))\n",
        "num2 = int(input(\"scegli il secondo valore:\"))\n",
        "num3 = int(input(\"scegli il terzo valore: \"))\n",
        "\n",
        "max(max(num1, num2), num3)"
      ],
      "execution_count": null,
      "outputs": []
    },
    {
      "cell_type": "markdown",
      "metadata": {
        "id": "5VZZKRgs77xl"
      },
      "source": [
        "\n",
        "2. scrivere una funzione chiamata sommaLista che data una lista di interi restituisca la somma di tutti gli elementi della lista. Scrivere poi un programma che, utilizzando la funzione create, trovi la somma degli elementi di una lista inserita dall'utente. \n",
        "\n"
      ]
    },
    {
      "cell_type": "code",
      "metadata": {
        "id": "ErxNxnGF79CT"
      },
      "source": [
        "def sommaLista(lista):\n",
        "    return sum(lista)\n",
        "\n",
        "lst = [int(n) for n in input('Inserisci una lista').split(' ')]\n",
        "print(sommaLista(lst))"
      ],
      "execution_count": null,
      "outputs": []
    },
    {
      "cell_type": "markdown",
      "metadata": {
        "id": "r1P9X8YUyvXM"
      },
      "source": [
        "3. utilizzando le funzioni create precedentemente, scrivere un programma che permetta all'utente di inserire tre liste e di avere il valore massimo della somma degli elementi delle tre liste."
      ]
    },
    {
      "cell_type": "code",
      "metadata": {
        "colab": {
          "base_uri": "https://localhost:8080/"
        },
        "id": "67rEOIC8y0G8",
        "outputId": "9c32e106-0b05-4b4b-b24a-964d150e3753"
      },
      "source": [
        "\n",
        "\n",
        "List1=[int(input(\"crea la tua lista inserendo i valori che vuoi ma dividili con una virgola \\n\"))]\n",
        "List2=[int(input(\"crea la tua lista inserendo i valori che vuoi ma dividili con una virgola \\n\"))]\n",
        "List3=[int(input(\"crea la tua lista inserendo i valori che vuoi ma dividili con una virgola \\n\"))]\n",
        "\n",
        "x=sum(List1)\n",
        "y=sum(List2)\n",
        "z=sum(List3)\n",
        "sommatotale=x+y+z\n",
        "print(sommatotale)\n"
      ],
      "execution_count": null,
      "outputs": [
        {
          "output_type": "stream",
          "name": "stdout",
          "text": [
            "crea la tua lista inserendo i valori che vuoi ma dividili con una virgola \n",
            "1\n",
            "crea la tua lista inserendo i valori che vuoi ma dividili con una virgola \n",
            "2\n",
            "crea la tua lista inserendo i valori che vuoi ma dividili con una virgola \n",
            "3\n",
            "6\n"
          ]
        }
      ]
    },
    {
      "cell_type": "markdown",
      "metadata": {
        "id": "w3tRh25H8C2-"
      },
      "source": [
        "4. scrivere una funzione chiamata controlla che dato un numero e due estremi restituisca True se il numero è compreso tra i due estremi, false altrimenti. Utilizzare poi la funzione per trovare il numero di elementi di una lista di numeri interi (inserita dall'utente) compresi tra due estremi (inseriti anch'essi dall'utente)"
      ]
    },
    {
      "cell_type": "code",
      "metadata": {
        "id": "XmM0fsN08MDX",
        "colab": {
          "base_uri": "https://localhost:8080/"
        },
        "outputId": "fdc2b65e-45b1-48e7-8ace-f724dea81e9e"
      },
      "source": [
        "def controlla(n, n_max, n_min):\n",
        "  return n_min < n < n_max\n",
        "\n",
        "l1 = input(\"Inserisci la lista\").split(\" \")\n",
        "l1 = [int(n) for n in l1]\n",
        "\n",
        "n_max = int(input('Inserire il numero massimo'))\n",
        "n_min = int(input('Inserire il numero minimo'))\n",
        "\n",
        "num = 0\n",
        "for el in l1:\n",
        "  if controlla(el, n_max, n_min):\n",
        "    num += 1 \n",
        "\n",
        "print(str(num))"
      ],
      "execution_count": null,
      "outputs": [
        {
          "output_type": "stream",
          "name": "stdout",
          "text": [
            "Inserisci la lista1 2 3\n",
            "Inserire il numero massimo3\n",
            "Inserire il numero minimo1\n",
            "1\n"
          ]
        }
      ]
    },
    {
      "cell_type": "markdown",
      "metadata": {
        "id": "4DMPpMuV8NPZ"
      },
      "source": [
        "6. scrivere una funzione chiamata confrontaListe che date due liste restituisca True se le due liste sono uguali, False altrimenti. Utilizzare poi la funzione in un programma che dica se una lista di interi è palindroma, cioè se può essere letta indifferentemente da sinistra a destra e da destra a sinistra. Ad esempio la lista [1, 2, 3, 4, 3, 2, 1] è palindroma, la lista [1, 2, 3, 4, 3,1, 2] non lo è.\n"
      ]
    },
    {
      "cell_type": "code",
      "metadata": {
        "id": "kP3opw3f8y8Y"
      },
      "source": [
        "def confrontaListe(list1,list2):\n",
        "  return list1 == list2\n",
        "\n",
        "lista = input('Inserire una lista').split(' ')\n",
        "confrontaListe(lista, lista[::-1])"
      ],
      "execution_count": null,
      "outputs": []
    },
    {
      "cell_type": "markdown",
      "metadata": {
        "id": "xz85D2cs81Yw"
      },
      "source": [
        "7. scrivere una funzione chiamata celsiusToFahrenheit che data una temperatura in gradi Celsius restituisca il valore convertito in gradi Fahrenheit (per ulteriori info, google it). Scrivere poi un programma che data una lista di temperature in gradi Celsius,inserita dall'utente, converta tutte le temperature in gradi Fahrenheit.\n"
      ]
    },
    {
      "cell_type": "code",
      "metadata": {
        "id": "veZmCbbs9GpA"
      },
      "source": [
        "def celsiusToFahrenheit(celsius):\n",
        "  fahrenheit = (celsius*9/5)+32\n",
        "  return fahrenheit\n",
        "\n",
        "celsiusToFahrenheit(int(input(\"Inserisci la temperatura in gradi celsius: \")))"
      ],
      "execution_count": null,
      "outputs": []
    }
  ]
}