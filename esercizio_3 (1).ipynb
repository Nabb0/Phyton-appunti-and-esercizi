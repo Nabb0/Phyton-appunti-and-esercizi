{
  "nbformat": 4,
  "nbformat_minor": 0,
  "metadata": {
    "colab": {
      "name": "esercizio 3.ipynb",
      "provenance": []
    },
    "kernelspec": {
      "name": "python3",
      "display_name": "Python 3"
    },
    "language_info": {
      "name": "python"
    }
  },
  "cells": [
    {
      "cell_type": "markdown",
      "metadata": {
        "id": "YL4QPJjlh_H0"
      },
      "source": [
        "1 . Scrivere un programma che crei un dizionario contenente i nomi delle regioni e i nomi dei loro\n",
        "capoluoghi. Il nome della regione deve essere il campo chiave. Chiamare il dizionario\n",
        "capoluoghiRegione"
      ]
    },
    {
      "cell_type": "code",
      "metadata": {
        "id": "nEnApmivhv6L"
      },
      "source": [
        "capoluoghiRegione = {\"Abruzzo\": \"Aquila\", \"Basilicata\": \"Potenza\", \"Calabria\": \"Catanzaro\", \"Campania\": \"Napoli\", \"Emilia-Romagna\": \"Bologna\", \"Friuli-venezia-Giulia\": \"Trieste\", \"Lazio\": \"Roma\", \"Liguaria\": \"Genova\", \"Lombardia\": \"Milano\", \"Marche\": \"Ancona\", \"Molise\": \"Campobasso\", \"Piemonte\": \"Torino\", \"Puglia\": \"Bari\", \"Sardegna\": \"Cagliari\", \"Sicilia\": \"Palermo\", \"Toscana\": \"Firenze\", \"Trentino-Alto Adige\": \"Trento\", \"Umbria\": \"Perugia\", \"valle d'Aosta\": \"Aosta\", \"Veneto\": \"Venezia\"}"
      ],
      "execution_count": 2,
      "outputs": []
    },
    {
      "cell_type": "markdown",
      "metadata": {
        "id": "qPTO7xvHiHE_"
      },
      "source": [
        "2 . Scrivere un programma che visualizzi tutti i nomi delle regioni presenti in capoluoghiRegione"
      ]
    },
    {
      "cell_type": "code",
      "metadata": {
        "colab": {
          "base_uri": "https://localhost:8080/"
        },
        "id": "oiSMNPZZiUDd",
        "outputId": "38b1e191-17d1-455e-c38a-14b6c9ae9974"
      },
      "source": [
        "for regioni in capoluoghiRegione.keys():\n",
        "  print(regioni)"
      ],
      "execution_count": 3,
      "outputs": [
        {
          "output_type": "stream",
          "name": "stdout",
          "text": [
            "Abruzzo\n",
            "Basilicata\n",
            "Calabria\n",
            "Campania\n",
            "Emilia-Romagna\n",
            "Friuli-venezia-Giulia\n",
            "Lazio\n",
            "Liguaria\n",
            "Lombardia\n",
            "Marche\n",
            "Molise\n",
            "Piemonte\n",
            "Puglia\n",
            "Sardegna\n",
            "Sicilia\n",
            "Toscana\n",
            "Trentino-Alto Adige\n",
            "Umbria\n",
            "valle d'Aosta\n",
            "Veneto\n"
          ]
        }
      ]
    },
    {
      "cell_type": "markdown",
      "metadata": {
        "id": "XXsszKhnijc0"
      },
      "source": [
        "3 . Scrivere un programma che visualizzi tutti i nomi dei capoluoghi di regione presenti in\n",
        "capoluoghiRegione"
      ]
    },
    {
      "cell_type": "code",
      "metadata": {
        "colab": {
          "base_uri": "https://localhost:8080/"
        },
        "id": "wEN0j5YkimM_",
        "outputId": "0321fc6d-0664-4766-f74e-3ba86bf315c5"
      },
      "source": [
        "for regioni in capoluoghiRegione.values():\n",
        "  print(regioni)"
      ],
      "execution_count": 10,
      "outputs": [
        {
          "output_type": "stream",
          "name": "stdout",
          "text": [
            "Aquila\n",
            "Potenza\n",
            "Catanzaro\n",
            "Napoli\n",
            "Bologna\n",
            "Trieste\n",
            "Roma\n",
            "Genova\n",
            "Milano\n",
            "Ancona\n",
            "Campobasso\n",
            "Torino\n",
            "Bari\n",
            "Cagliari\n",
            "Palermo\n",
            "Firenze\n",
            "Trento\n",
            "Perugia\n",
            "Aosta\n",
            "Venezia\n"
          ]
        }
      ]
    },
    {
      "cell_type": "markdown",
      "metadata": {
        "id": "r5ioSuU8isBG"
      },
      "source": [
        "4 . Scrivere un programma che acquisisca dall’utente il nome di una regione e fornisca il nome del suo\n",
        "capoluogo."
      ]
    },
    {
      "cell_type": "code",
      "metadata": {
        "colab": {
          "base_uri": "https://localhost:8080/"
        },
        "id": "xsqrgheVi9fK",
        "outputId": "61d1583b-b601-4b8a-a2e0-1c1248225e4f"
      },
      "source": [
        "input_ = str(input(\"Inserire una regione: \")).title()\n",
        "\n",
        "try:\n",
        "  res = capoluoghiRegione[input_]\n",
        "  print(\"Capoluogo di regione:\", res)\n",
        "except KeyError as e:\n",
        "  print(\"Errore, regione non trovata!\\n\", e)"
      ],
      "execution_count": 5,
      "outputs": [
        {
          "output_type": "stream",
          "name": "stdout",
          "text": [
            "Inserire una regione: lombardia\n",
            "Capoluogo di regione: Milano\n"
          ]
        }
      ]
    },
    {
      "cell_type": "markdown",
      "metadata": {
        "id": "e6TJpXYni-YV"
      },
      "source": [
        "5 . Scrivere un programma che acquisisca dall’utente il nome di un capoluogo e fornisca il nome della\n",
        "regione a cui appartiene."
      ]
    },
    {
      "cell_type": "code",
      "metadata": {
        "colab": {
          "base_uri": "https://localhost:8080/"
        },
        "id": "b9yW-_gCjDnd",
        "outputId": "999bc69c-5241-4715-a2c2-98b5ec71ac3b"
      },
      "source": [
        "capoluoghi = [capoluoghi for capoluoghi in capoluoghiRegione.values()]\n",
        "regioni = [regioni for regioni in capoluoghiRegione.keys()]\n",
        "\n",
        "try:\n",
        "  input_ = str(input(\"Inserire un capoluogo: \")).title()\n",
        "  res = regioni[capoluoghi.index(input_)]\n",
        "\n",
        "  print(\"Regione:\",res)\n",
        "except KeyError as e:\n",
        "    print(\"Errore, capoluogo non trovato!\\n\", e)"
      ],
      "execution_count": 6,
      "outputs": [
        {
          "output_type": "stream",
          "name": "stdout",
          "text": [
            "Inserire un capoluogo: napoli\n",
            "Regione: Campania\n"
          ]
        }
      ]
    },
    {
      "cell_type": "markdown",
      "metadata": {
        "id": "zzjtFVMDjawB"
      },
      "source": [
        "6 . Scrivere un programma che visualizzi tutte le regioni con i rispettivi capoluoghi"
      ]
    },
    {
      "cell_type": "code",
      "metadata": {
        "colab": {
          "base_uri": "https://localhost:8080/"
        },
        "id": "_j6JKvh4jbny",
        "outputId": "283a105b-a032-441e-ca06-4f28c063558b"
      },
      "source": [
        "capoluoghi = [capoluoghi for capoluoghi in capoluoghiRegione.values()]\n",
        "regioni = [regioni for regioni in capoluoghiRegione.keys()]\n",
        "\n",
        "for i in range(0, len(capoluoghiRegione)):\n",
        "  print(regioni[i] + \", \" + capoluoghi[i])"
      ],
      "execution_count": 13,
      "outputs": [
        {
          "output_type": "stream",
          "name": "stdout",
          "text": [
            "Abruzzo, Aquila\n",
            "Basilicata, Potenza\n",
            "Calabria, Catanzaro\n",
            "Campania, Napoli\n",
            "Emilia-Romagna, Bologna\n",
            "Friuli-venezia-Giulia, Trieste\n",
            "Lazio, Roma\n",
            "Liguaria, Genova\n",
            "Lombardia, Milano\n",
            "Marche, Ancona\n",
            "Molise, Campobasso\n",
            "Piemonte, Torino\n",
            "Puglia, Bari\n",
            "Sardegna, Cagliari\n",
            "Sicilia, Palermo\n",
            "Toscana, Firenze\n",
            "Trentino-Alto Adige, Trento\n",
            "Umbria, Perugia\n",
            "valle d'Aosta, Aosta\n",
            "Veneto, Venezia\n"
          ]
        }
      ]
    },
    {
      "cell_type": "markdown",
      "metadata": {
        "id": "b6OneJKhji07"
      },
      "source": [
        "7 . Scrivere un programma che visualizzi tutte le regioni con i rispettivi capoluoghi. Ordinare le regioni\n",
        "in ordine alfabetico"
      ]
    },
    {
      "cell_type": "code",
      "metadata": {
        "colab": {
          "base_uri": "https://localhost:8080/"
        },
        "id": "PgXsBkJ5jm2y",
        "outputId": "6f47d2c0-624d-4318-bf1a-a2c8b8bf6f07"
      },
      "source": [
        "res = sorted(capoluoghiRegione.items(), key=lambda val: val[0])\n",
        "for name in res:\n",
        "  print(name[0] + \" | \" + name[1])"
      ],
      "execution_count": 11,
      "outputs": [
        {
          "output_type": "stream",
          "name": "stdout",
          "text": [
            "Abruzzo | Aquila\n",
            "Basilicata | Potenza\n",
            "Calabria | Catanzaro\n",
            "Campania | Napoli\n",
            "Emilia-Romagna | Bologna\n",
            "Friuli-venezia-Giulia | Trieste\n",
            "Lazio | Roma\n",
            "Liguaria | Genova\n",
            "Lombardia | Milano\n",
            "Marche | Ancona\n",
            "Molise | Campobasso\n",
            "Piemonte | Torino\n",
            "Puglia | Bari\n",
            "Sardegna | Cagliari\n",
            "Sicilia | Palermo\n",
            "Toscana | Firenze\n",
            "Trentino-Alto Adige | Trento\n",
            "Umbria | Perugia\n",
            "Veneto | Venezia\n",
            "valle d'Aosta | Aosta\n"
          ]
        }
      ]
    },
    {
      "cell_type": "markdown",
      "metadata": {
        "id": "uxeoHVVrkapj"
      },
      "source": [
        "8 . Scrivere un programma che visualizzi tutte le regioni con i rispettivi capoluoghi. Ordinare i\n",
        "capoluoghi in ordine alfabetico"
      ]
    },
    {
      "cell_type": "code",
      "metadata": {
        "colab": {
          "base_uri": "https://localhost:8080/"
        },
        "id": "ROh7BOTOkcDd",
        "outputId": "37ee84e9-d45b-4dec-8f7d-750f25632ae8"
      },
      "source": [
        "res = sorted(capoluoghiRegione.items(), key=lambda val: val[1])\n",
        "\n",
        "for name in res:\n",
        "  print(name[1] + \" | \" + name[0])"
      ],
      "execution_count": 9,
      "outputs": [
        {
          "output_type": "stream",
          "name": "stdout",
          "text": [
            "Ancona | Marche\n",
            "Aosta | valle d'Aosta\n",
            "Aquila | Abruzzo\n",
            "Bari | Puglia\n",
            "Bologna | Emilia-Romagna\n",
            "Cagliari | Sardegna\n",
            "Campobasso | Molise\n",
            "Catanzaro | Calabria\n",
            "Firenze | Toscana\n",
            "Genova | Liguaria\n",
            "Milano | Lombardia\n",
            "Napoli | Campania\n",
            "Palermo | Sicilia\n",
            "Perugia | Umbria\n",
            "Potenza | Basilicata\n",
            "Roma | Lazio\n",
            "Torino | Piemonte\n",
            "Trento | Trentino-Alto Adige\n",
            "Trieste | Friuli-venezia-Giulia\n",
            "Venezia | Veneto\n"
          ]
        }
      ]
    },
    {
      "cell_type": "markdown",
      "metadata": {
        "id": "_dlqDSDEkk0t"
      },
      "source": [
        "9 . Scrivere un programma che carichi in una lista i nomi delle regioni e in un’altra lista i nomi dei\n",
        "rispettivi capoluoghi. Scrivere poi l’istruzione che permette di costruire il dizionario a partire dalle\n",
        "due liste."
      ]
    },
    {
      "cell_type": "code",
      "metadata": {
        "colab": {
          "base_uri": "https://localhost:8080/"
        },
        "id": "oEpn8TJgklpV",
        "outputId": "9890cae1-1e47-4971-bedf-3dadbf727c65"
      },
      "source": [
        "regioni = [regioni for regioni in capoluoghiRegione.keys()]\n",
        "capoluoghi = [capoluoghi for capoluoghi in capoluoghiRegione.values()]\n",
        "\n",
        "res = dict(zip(regioni, capoluoghi))\n",
        "print(res)"
      ],
      "execution_count": 12,
      "outputs": [
        {
          "output_type": "stream",
          "name": "stdout",
          "text": [
            "{'Abruzzo': 'Aquila', 'Basilicata': 'Potenza', 'Calabria': 'Catanzaro', 'Campania': 'Napoli', 'Emilia-Romagna': 'Bologna', 'Friuli-venezia-Giulia': 'Trieste', 'Lazio': 'Roma', 'Liguaria': 'Genova', 'Lombardia': 'Milano', 'Marche': 'Ancona', 'Molise': 'Campobasso', 'Piemonte': 'Torino', 'Puglia': 'Bari', 'Sardegna': 'Cagliari', 'Sicilia': 'Palermo', 'Toscana': 'Firenze', 'Trentino-Alto Adige': 'Trento', 'Umbria': 'Perugia', \"valle d'Aosta\": 'Aosta', 'Veneto': 'Venezia'}\n"
          ]
        }
      ]
    }
  ]
}