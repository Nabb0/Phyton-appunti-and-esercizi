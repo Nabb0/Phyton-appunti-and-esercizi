{
  "nbformat": 4,
  "nbformat_minor": 0,
  "metadata": {
    "colab": {
      "name": "CorrezioneVerificaFilaA30_11_2021.ipynb",
      "provenance": [],
      "collapsed_sections": []
    },
    "kernelspec": {
      "name": "python3",
      "display_name": "Python 3"
    },
    "language_info": {
      "name": "python"
    }
  },
  "cells": [
    {
      "cell_type": "code",
      "metadata": {
        "id": "w1McVHknrxUT"
      },
      "source": [
        "import matplotlib.pyplot as plt\n",
        "import pandas as pd"
      ],
      "execution_count": null,
      "outputs": []
    },
    {
      "cell_type": "code",
      "metadata": {
        "colab": {
          "base_uri": "https://localhost:8080/",
          "height": 424
        },
        "id": "ZVq2sVRBsOj5",
        "outputId": "16b5772a-7bfc-4046-89a9-f4e277c2241d"
      },
      "source": [
        "df = pd.read_csv('https://raw.githubusercontent.com/italia/covid19-opendata-vaccini/master/dati/platea.csv')\n",
        "df"
      ],
      "execution_count": null,
      "outputs": [
        {
          "output_type": "execute_result",
          "data": {
            "text/html": [
              "<div>\n",
              "<style scoped>\n",
              "    .dataframe tbody tr th:only-of-type {\n",
              "        vertical-align: middle;\n",
              "    }\n",
              "\n",
              "    .dataframe tbody tr th {\n",
              "        vertical-align: top;\n",
              "    }\n",
              "\n",
              "    .dataframe thead th {\n",
              "        text-align: right;\n",
              "    }\n",
              "</style>\n",
              "<table border=\"1\" class=\"dataframe\">\n",
              "  <thead>\n",
              "    <tr style=\"text-align: right;\">\n",
              "      <th></th>\n",
              "      <th>area</th>\n",
              "      <th>nome_area</th>\n",
              "      <th>fascia_anagrafica</th>\n",
              "      <th>totale_popolazione</th>\n",
              "    </tr>\n",
              "  </thead>\n",
              "  <tbody>\n",
              "    <tr>\n",
              "      <th>0</th>\n",
              "      <td>ABR</td>\n",
              "      <td>Abruzzo</td>\n",
              "      <td>12-19</td>\n",
              "      <td>94727</td>\n",
              "    </tr>\n",
              "    <tr>\n",
              "      <th>1</th>\n",
              "      <td>ABR</td>\n",
              "      <td>Abruzzo</td>\n",
              "      <td>20-29</td>\n",
              "      <td>125230</td>\n",
              "    </tr>\n",
              "    <tr>\n",
              "      <th>2</th>\n",
              "      <td>ABR</td>\n",
              "      <td>Abruzzo</td>\n",
              "      <td>30-39</td>\n",
              "      <td>146965</td>\n",
              "    </tr>\n",
              "    <tr>\n",
              "      <th>3</th>\n",
              "      <td>ABR</td>\n",
              "      <td>Abruzzo</td>\n",
              "      <td>40-49</td>\n",
              "      <td>187162</td>\n",
              "    </tr>\n",
              "    <tr>\n",
              "      <th>4</th>\n",
              "      <td>ABR</td>\n",
              "      <td>Abruzzo</td>\n",
              "      <td>50-59</td>\n",
              "      <td>208686</td>\n",
              "    </tr>\n",
              "    <tr>\n",
              "      <th>...</th>\n",
              "      <td>...</td>\n",
              "      <td>...</td>\n",
              "      <td>...</td>\n",
              "      <td>...</td>\n",
              "    </tr>\n",
              "    <tr>\n",
              "      <th>163</th>\n",
              "      <td>VEN</td>\n",
              "      <td>Veneto</td>\n",
              "      <td>40-49</td>\n",
              "      <td>715790</td>\n",
              "    </tr>\n",
              "    <tr>\n",
              "      <th>164</th>\n",
              "      <td>VEN</td>\n",
              "      <td>Veneto</td>\n",
              "      <td>50-59</td>\n",
              "      <td>806474</td>\n",
              "    </tr>\n",
              "    <tr>\n",
              "      <th>165</th>\n",
              "      <td>VEN</td>\n",
              "      <td>Veneto</td>\n",
              "      <td>60-69</td>\n",
              "      <td>610635</td>\n",
              "    </tr>\n",
              "    <tr>\n",
              "      <th>166</th>\n",
              "      <td>VEN</td>\n",
              "      <td>Veneto</td>\n",
              "      <td>70-79</td>\n",
              "      <td>494721</td>\n",
              "    </tr>\n",
              "    <tr>\n",
              "      <th>167</th>\n",
              "      <td>VEN</td>\n",
              "      <td>Veneto</td>\n",
              "      <td>80+</td>\n",
              "      <td>370529</td>\n",
              "    </tr>\n",
              "  </tbody>\n",
              "</table>\n",
              "<p>168 rows × 4 columns</p>\n",
              "</div>"
            ],
            "text/plain": [
              "    area nome_area fascia_anagrafica  totale_popolazione\n",
              "0    ABR   Abruzzo             12-19               94727\n",
              "1    ABR   Abruzzo             20-29              125230\n",
              "2    ABR   Abruzzo             30-39              146965\n",
              "3    ABR   Abruzzo             40-49              187162\n",
              "4    ABR   Abruzzo             50-59              208686\n",
              "..   ...       ...               ...                 ...\n",
              "163  VEN    Veneto             40-49              715790\n",
              "164  VEN    Veneto             50-59              806474\n",
              "165  VEN    Veneto             60-69              610635\n",
              "166  VEN    Veneto             70-79              494721\n",
              "167  VEN    Veneto               80+              370529\n",
              "\n",
              "[168 rows x 4 columns]"
            ]
          },
          "metadata": {},
          "execution_count": 55
        }
      ]
    },
    {
      "cell_type": "markdown",
      "metadata": {
        "id": "PTNPpIQlsman"
      },
      "source": [
        "1. Visualizzare la popolazione complessiva di tutte le regioni"
      ]
    },
    {
      "cell_type": "code",
      "metadata": {
        "colab": {
          "base_uri": "https://localhost:8080/"
        },
        "id": "YynAjY5Tsmjo",
        "outputId": "3d0dcbb6-a00e-4ed8-ceac-c9114c7060e8"
      },
      "source": [
        "df['totale_popolazione'].sum()"
      ],
      "execution_count": null,
      "outputs": [
        {
          "output_type": "execute_result",
          "data": {
            "text/plain": [
              "54009944"
            ]
          },
          "metadata": {},
          "execution_count": 56
        }
      ]
    },
    {
      "cell_type": "markdown",
      "metadata": {
        "id": "LsV1gOHDtEkY"
      },
      "source": [
        "2. Visualizzare la popolazione di una regione inserita dall’utente. Controllare il dato inserito: se la regione\n",
        "non esiste dare un opportuno messaggio, altrimenti dare il messaggio “La regione &lt;nome&gt; ha &lt;totale&gt;\n",
        "abitanti”"
      ]
    },
    {
      "cell_type": "code",
      "metadata": {
        "colab": {
          "base_uri": "https://localhost:8080/"
        },
        "id": "cHjyP1TQtNnw",
        "outputId": "ed8067c4-6343-4223-c57b-7166465f20ff"
      },
      "source": [
        "regione=input('inserisci una regione')\n",
        "popolazione=df[df['nome_area']==regione].totale_popolazione.sum()\n",
        "popolazione\n",
        "if popolazione >0 :\n",
        "  print('la regione',regione,'ha',popolazione,'abitanti' )\n",
        "else:\n",
        "   print('regione non presente')"
      ],
      "execution_count": null,
      "outputs": [
        {
          "output_type": "stream",
          "name": "stdout",
          "text": [
            "inserisci una regioneMialno\n",
            "regione non presente\n"
          ]
        }
      ]
    },
    {
      "cell_type": "code",
      "metadata": {
        "colab": {
          "base_uri": "https://localhost:8080/"
        },
        "id": "smTr3i9-u9xo",
        "outputId": "c0781656-789c-4615-91ee-b8a32a1c9273"
      },
      "source": [
        "regione=input('inserisci una regione')\n",
        "popolazione=df[df['nome_area']==regione].totale_popolazione.sum()\n",
        "popolazione\n",
        "if popolazione >0 :\n",
        "  print('la regione',regione,'ha',popolazione,'abitanti' )\n",
        "else:\n",
        "   print('regione non presente')"
      ],
      "execution_count": null,
      "outputs": [
        {
          "output_type": "stream",
          "name": "stdout",
          "text": [
            "inserisci una regionef\n",
            "regione non presente\n"
          ]
        }
      ]
    },
    {
      "cell_type": "markdown",
      "metadata": {
        "id": "fAjJ3d3utmep"
      },
      "source": [
        "3. Visualizzare la popolazione di ogni regione. Visualizzare il nome della regione e il numero di abitanti.\n",
        "Ordinare in ordine decrescente sul numero di abitanti (dalla regione che ha più abitanti a quella che ne\n",
        "ha di meno)"
      ]
    },
    {
      "cell_type": "code",
      "metadata": {
        "colab": {
          "base_uri": "https://localhost:8080/"
        },
        "id": "0bwYGbMStmqq",
        "outputId": "0d52fa28-6a96-4237-8510-c794888e79e2"
      },
      "source": [
        "pop =df.groupby('nome_area')[['totale_popolazione']].sum().sort_values('totale_popolazione',ascending=False).reset_index\n",
        "pop"
      ],
      "execution_count": null,
      "outputs": [
        {
          "output_type": "execute_result",
          "data": {
            "text/plain": [
              "<bound method DataFrame.reset_index of                        totale_popolazione\n",
              "nome_area                                \n",
              "Lombardia                         9246804\n",
              "Lazio                             5147533\n",
              "Campania                          5104347\n",
              "Sicilia                           4435335\n",
              "Veneto                            4383999\n",
              "Emilia-Romagna                    3998406\n",
              "Piemonte                          3927641\n",
              "Puglia                            3572053\n",
              "Toscana                           3360763\n",
              "Calabria                          1689716\n",
              "Sardegna                          1484800\n",
              "Liguria                           1399466\n",
              "Marche                            1366477\n",
              "Abruzzo                           1188922\n",
              "Friuli-Venezia Giulia             1088152\n",
              "Umbria                             790414\n",
              "Basilicata                         494881\n",
              "P.A. Trento                        481355\n",
              "P.A. Bolzano                       465181\n",
              "Molise                             273317\n",
              "Valle d'Aosta                      110382>"
            ]
          },
          "metadata": {},
          "execution_count": 59
        }
      ]
    },
    {
      "cell_type": "markdown",
      "metadata": {
        "id": "EvUGvCLWwRdp"
      },
      "source": [
        "4. Visualizzare il grafico a barre orizzontali relativo all’esercizio 3. Inserire il titolo, i nomi degli assi e la\n",
        "legenda. Fare in modo che i colori delle barre siano gradazioni dello stesso colore."
      ]
    },
    {
      "cell_type": "code",
      "metadata": {
        "colab": {
          "base_uri": "https://localhost:8080/",
          "height": 217
        },
        "id": "JPrqDZj5wUrY",
        "outputId": "49f52513-46de-4cd6-9b8b-3d3bc5f3f1ac"
      },
      "source": [
        "import seaborn as sns\n",
        "fig = plt.figure()\n",
        "sns.barplot(x= pop.values, y= pop.index ,palette='Blues_d')\n"
      ],
      "execution_count": null,
      "outputs": [
        {
          "output_type": "error",
          "ename": "AttributeError",
          "evalue": "ignored",
          "traceback": [
            "\u001b[0;31m---------------------------------------------------------------------------\u001b[0m",
            "\u001b[0;31mAttributeError\u001b[0m                            Traceback (most recent call last)",
            "\u001b[0;32m<ipython-input-60-813419b4b986>\u001b[0m in \u001b[0;36m<module>\u001b[0;34m()\u001b[0m\n\u001b[1;32m      1\u001b[0m \u001b[0;32mimport\u001b[0m \u001b[0mseaborn\u001b[0m \u001b[0;32mas\u001b[0m \u001b[0msns\u001b[0m\u001b[0;34m\u001b[0m\u001b[0;34m\u001b[0m\u001b[0m\n\u001b[1;32m      2\u001b[0m \u001b[0mfig\u001b[0m \u001b[0;34m=\u001b[0m \u001b[0mplt\u001b[0m\u001b[0;34m.\u001b[0m\u001b[0mfigure\u001b[0m\u001b[0;34m(\u001b[0m\u001b[0;34m)\u001b[0m\u001b[0;34m\u001b[0m\u001b[0;34m\u001b[0m\u001b[0m\n\u001b[0;32m----> 3\u001b[0;31m \u001b[0msns\u001b[0m\u001b[0;34m.\u001b[0m\u001b[0mbarplot\u001b[0m\u001b[0;34m(\u001b[0m\u001b[0mx\u001b[0m\u001b[0;34m=\u001b[0m \u001b[0mpop\u001b[0m\u001b[0;34m.\u001b[0m\u001b[0mvalues\u001b[0m\u001b[0;34m,\u001b[0m \u001b[0my\u001b[0m\u001b[0;34m=\u001b[0m \u001b[0mpop\u001b[0m\u001b[0;34m.\u001b[0m\u001b[0mindex\u001b[0m \u001b[0;34m,\u001b[0m\u001b[0mpalette\u001b[0m\u001b[0;34m=\u001b[0m\u001b[0;34m'Blues_d'\u001b[0m\u001b[0;34m)\u001b[0m\u001b[0;34m\u001b[0m\u001b[0;34m\u001b[0m\u001b[0m\n\u001b[0m",
            "\u001b[0;31mAttributeError\u001b[0m: 'function' object has no attribute 'values'"
          ]
        },
        {
          "output_type": "display_data",
          "data": {
            "text/plain": [
              "<Figure size 432x288 with 0 Axes>"
            ]
          },
          "metadata": {}
        }
      ]
    },
    {
      "cell_type": "markdown",
      "metadata": {
        "id": "aJQuvqWZzOrK"
      },
      "source": [
        "5. Eliminare la colonna ‘area’"
      ]
    },
    {
      "cell_type": "code",
      "metadata": {
        "id": "gPkiItBBzOzI"
      },
      "source": [
        "df=df.drop(columns='area')\n",
        "df"
      ],
      "execution_count": null,
      "outputs": []
    },
    {
      "cell_type": "markdown",
      "metadata": {
        "id": "3VKPRk6Hz5aB"
      },
      "source": [
        "6. Visualizzare le fasce anagrafiche che hanno un numero di persone compreso tra 5 e 7 milioni"
      ]
    },
    {
      "cell_type": "code",
      "metadata": {
        "id": "1maoB8PI0o5y"
      },
      "source": [
        "df1= df.groupby('fascia_anagrafica')[['totale_popolazione']].sum().reset_index()\n",
        "df2=df1.loc[(df1['totale_popolazione'] <=7000000)&(df1['totale_popolazione']>=5000000),['totale_popolazione','fascia_anagrafica']]\n",
        "df2"
      ],
      "execution_count": null,
      "outputs": []
    },
    {
      "cell_type": "markdown",
      "metadata": {
        "id": "54a-k8CJ11ji"
      },
      "source": [
        "7. Visualizzare il grafico a torta dei dati dell’esercizio 6. Visualizzare negli spicchi sia il numero assoluto\n",
        "degli abitanti (ad esempio 4345767) sia la percentuale"
      ]
    },
    {
      "cell_type": "code",
      "metadata": {
        "id": "vP-VfdxA12Kb"
      },
      "source": [
        "df2=df1.loc[(df1['totale_popolazione'] <=7000000)&(df1['totale_popolazione']>=5000000),['totale_popolazione','fascia_anagrafica']]\n",
        "ele=list(df2['totale_popolazione'])\n",
        "totale=sum(ele)\n",
        "fig= plt.figure(figsize=(12,12))\n",
        "ax=plt.axes()\n",
        "\n",
        "plt.rcParams.update({\"font.size\":20})\n",
        "\n",
        "def make_autopct(values):\n",
        "  def my_autopct(pct):\n",
        "    total=sum(values)\n",
        "    val=int(round(pct*total/100.0))\n",
        "    return '{v:d} ({p:2f}%)'.format(p=pct,v=val) \n",
        "  return my_autopct\n",
        "values = list(df2['totale_popolazione'])\n",
        "ax.pie(df2['totale_popolazione'],labels=df2['fascia_anagrafica'],autopct=make_autopct(values))\n",
        "plt.show()\n"
      ],
      "execution_count": null,
      "outputs": []
    },
    {
      "cell_type": "markdown",
      "metadata": {
        "id": "NI4y8Wrq3hcs"
      },
      "source": [
        "8. Visualizzare un nuovo grafico con i grafici precedenti. Il nuovo grafico deve avere due colonne e tre\n",
        "righe e deve contenere nella prima colonna tre volte il grafico a barre e nelle seconda colonna tre volte\n",
        "il grafico a torta"
      ]
    },
    {
      "cell_type": "code",
      "metadata": {
        "id": "Z24pxGQ53iAE"
      },
      "source": [
        "fig, ((ax1,ax2,ax3),(ax4,ax5,ax6)) = plt.subplots(2,3)\n",
        "ax1.barh(dfpopolazione.index,dfpopolazione['totale_popolazione'],color='tab:orange')\n",
        "\n",
        "ax2.barh(dfpopolazione.index,dfpopolazione['totale_popolazione'],color='tab:orange')\n",
        "\n",
        "ax3.barh(dfpopolazione.index,dfpopolazione['totale_popolazione'],color='tab:orange')\n",
        "\n",
        "\n",
        "ax4.pie(df2['totale_popolazione'],labels=df2['fascia_anagrafica'],autopct='%1.2f%%')\n",
        "ax5.pie(df2['totale_popolazione'],labels=df2['fascia_anagrafica'],autopct='%1.2f%%')\n",
        "ax6.pie(df2['totale_popolazione'],labels=df2['fascia_anagrafica'],autopct='%1.2f%%')\n",
        "plt.show()\n",
        "\n",
        "plt.savefig(\"output.png\")\n"
      ],
      "execution_count": null,
      "outputs": []
    },
    {
      "cell_type": "markdown",
      "metadata": {
        "id": "3krAnpav63IJ"
      },
      "source": [
        "9. Salvare il grafico in un file .png"
      ]
    },
    {
      "cell_type": "code",
      "metadata": {
        "id": "Y0hqBzOv63Z8"
      },
      "source": [
        "fig.savefig(\"output.png\")"
      ],
      "execution_count": null,
      "outputs": []
    }
  ]
}
