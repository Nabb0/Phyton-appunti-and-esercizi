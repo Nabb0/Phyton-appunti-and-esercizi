{
  "nbformat": 4,
  "nbformat_minor": 0,
  "metadata": {
    "colab": {
      "name": "esercizio6.ipynb",
      "provenance": []
    },
    "kernelspec": {
      "name": "python3",
      "display_name": "Python 3"
    },
    "language_info": {
      "name": "python"
    }
  },
  "cells": [
    {
      "cell_type": "markdown",
      "metadata": {
        "id": "d7GN0Uk4-_gJ"
      },
      "source": [
        "1. scrivere una funzione chiamata sommaTutti che permetta di sommare un numero arbitrario di valori interi passati come parametri. Scrivere poi un programma che permetta all'utente di inserire un numero variabile di interi e visualizzi la somma."
      ]
    },
    {
      "cell_type": "code",
      "metadata": {
        "colab": {
          "base_uri": "https://localhost:8080/"
        },
        "id": "n4l2qJ8UnIox",
        "outputId": "afd0e624-f811-4b4c-85ad-b4a1158354e7"
      },
      "source": [
        "a=int(input(\"inserisci un valore intero \\n\"))\n",
        "b=int(input(\"inserisci un valore intero \\n\"))\n",
        "c=int(input(\"inserisci un valore intero \\n\"))\n",
        "d=int(input(\"inserisci un valore intero \\n\"))\n",
        "e=int(input(\"inserisci un valore intero \\n\"))\n",
        "\n",
        "def sommatutti (*risultato):\n",
        "  return sum(risultato)\n",
        "\n",
        "print(sommatutti(a,b,c,d,e))   \n"
      ],
      "execution_count": null,
      "outputs": [
        {
          "output_type": "stream",
          "name": "stdout",
          "text": [
            "inserisci un valore intero \n",
            "1\n",
            "inserisci un valore intero \n",
            "2\n",
            "inserisci un valore intero \n",
            "3\n",
            "inserisci un valore intero \n",
            "4\n",
            "inserisci un valore intero \n",
            "5\n",
            "15\n"
          ]
        }
      ]
    },
    {
      "cell_type": "markdown",
      "metadata": {
        "id": "OuMwMHKY_FE4"
      },
      "source": [
        "2. scrivere una lambda function che calcoli la lunghezza della circonferenza di un cerchio dato il raggio. Utilizzarla poi in un programma che chieda all'utente il valore del raggio e visualizzi la lunghezza della circonferenza"
      ]
    },
    {
      "cell_type": "code",
      "metadata": {
        "colab": {
          "base_uri": "https://localhost:8080/"
        },
        "id": "qEqg8V_n_F4h",
        "outputId": "7b929fd4-42ea-47bf-bcac-ce8da848d890"
      },
      "source": [
        "\n",
        "raggio2=lambda x:x *(2*3.14)\n",
        "\n",
        "raggio=int(input(\"inserire raggio\"))\n",
        "\n",
        "(raggio2(raggio))"
      ],
      "execution_count": null,
      "outputs": [
        {
          "name": "stdout",
          "output_type": "stream",
          "text": [
            "inserire raggio3\n"
          ]
        },
        {
          "output_type": "execute_result",
          "data": {
            "text/plain": [
              "18.84"
            ]
          },
          "metadata": {},
          "execution_count": 20
        }
      ]
    },
    {
      "cell_type": "markdown",
      "metadata": {
        "id": "V4YMG6YlEJRp"
      },
      "source": [
        "3. scrivere una funzione che calcoli il quadrato di un numero. Scrivere poi una funzione che calcoli la radice quadrata della somma di due numeri. Scrivere poi una lambda function che date le lunghezze di due cateti di un triangolo calcoli l'ipotenusa utilizzando le funzioni definite precedentemente. Utilizzare quest'ultima funzione in un programma che permetta all'utente di inserire le lunghezze dei cateti e di avere in risposta la lunghezza dell'ipotenusa di un triangolo rettangolo"
      ]
    },
    {
      "cell_type": "code",
      "metadata": {
        "id": "Y0ZWxrI0EKHg",
        "colab": {
          "base_uri": "https://localhost:8080/"
        },
        "outputId": "950b64ba-9119-4ef7-abfd-d9b32faffbdf"
      },
      "source": [
        "f=int(input())\n",
        "g=int(input())\n",
        "import math\n",
        "\n",
        "\n",
        "def quadrato (risultatoquadrato):\n",
        "  return risultatoquadrato**2\n",
        "  \n",
        "\n",
        "l=lambda x,y: radicequadrata(quadrato(x),quadrato(y))\n",
        "print(l(g,f))   \n",
        "\n"
      ],
      "execution_count": null,
      "outputs": [
        {
          "output_type": "stream",
          "name": "stdout",
          "text": [
            "3\n",
            "4\n",
            "5.0\n"
          ]
        }
      ]
    },
    {
      "cell_type": "markdown",
      "metadata": {
        "id": "yh08J3tUuhsu"
      },
      "source": [
        "\n",
        "4. Scrivere le funzioni quadrato, cubo e radiceQuadrata che calcolano il quadrato, il cubo e la radice quadrata di un numero intero. Scrivere poi un programma che, utilizzando un ciclo for, richiami le tre funzioni su un valore intero inserito dall'utente e visualizzi i tre risultati."
      ]
    },
    {
      "cell_type": "code",
      "metadata": {
        "colab": {
          "base_uri": "https://localhost:8080/"
        },
        "id": "cGNNnXVKuiMe",
        "outputId": "f0f83a98-6c06-4c86-c22d-179386d635e8"
      },
      "source": [
        "ValoreIntero=int(input())\n",
        "\n",
        "def quadrato (risultatoquadrato):\n",
        "  return risultatoquadrato**2\n",
        "\n",
        "def cubo (risultatocubo):\n",
        "  return risultatocubo**3\n",
        "\n",
        "def radicequadrata1(n1):\n",
        "  return math.sqrt(n1)\n",
        "\n",
        "for i in range(3):\n",
        "  if i==0:\n",
        "    print(quadrato(ValoreIntero))\n",
        "  if i==1:\n",
        "    print(cubo(ValoreIntero))\n",
        "  if i==2:\n",
        "    print(radicequadrata1(ValoreIntero))\n",
        "    \n",
        "        \n",
        "\n",
        "\n",
        "\n"
      ],
      "execution_count": null,
      "outputs": [
        {
          "output_type": "stream",
          "name": "stdout",
          "text": [
            "2\n",
            "4\n",
            "8\n",
            "1.4142135623730951\n"
          ]
        }
      ]
    },
    {
      "cell_type": "markdown",
      "metadata": {
        "id": "w0ZPJtMGxe4p"
      },
      "source": [
        "5. Utilizzando una lambda function, scrivere un programma che data una lista di numeri interi inserita dall'utente carichi in altre due liste i quadrati e i cubi dei numeri presenti nella lista inserita. Al termine, visualizzare le due liste."
      ]
    },
    {
      "cell_type": "code",
      "metadata": {
        "colab": {
          "base_uri": "https://localhost:8080/"
        },
        "id": "88y6Ndfhxffo",
        "outputId": "19cbf6a5-32c0-4bbb-f206-634343e368bd"
      },
      "source": [
        "Lstutente=[int(input(\"inserisci un valore intero \\n\"))for _ in range(0,10)]\n",
        "\n",
        "\n",
        "studentealquadrato=list(map(lambda x: x**2, Lstutente))\n",
        "\n",
        "studentealcubo=list(map(lambda x: x**3, Lstutente))\n",
        "\n",
        "print(studentealquadrato)\n",
        "print(studentealcubo)"
      ],
      "execution_count": null,
      "outputs": [
        {
          "output_type": "stream",
          "name": "stdout",
          "text": [
            "inserisci un valore intero \n",
            "1\n",
            "inserisci un valore intero \n",
            "2\n",
            "inserisci un valore intero \n",
            "3\n",
            "inserisci un valore intero \n",
            "4\n",
            "inserisci un valore intero \n",
            "5\n",
            "inserisci un valore intero \n",
            "6\n",
            "inserisci un valore intero \n",
            "7\n",
            "inserisci un valore intero \n",
            "8\n",
            "inserisci un valore intero \n",
            "9\n",
            "inserisci un valore intero \n",
            "10\n",
            "[1, 4, 9, 16, 25, 36, 49, 64, 81, 100]\n",
            "[1, 8, 27, 64, 125, 216, 343, 512, 729, 1000]\n"
          ]
        }
      ]
    },
    {
      "cell_type": "markdown",
      "metadata": {
        "id": "NQgeKJVW0xjp"
      },
      "source": [
        "6. Utilizzando una lambda function, scrivere un programma che data una lista di numeri interi inserita dall'utente carichi in altre due liste i numeri pari e i numeri dispari presenti nella lista inserita. Al termine, visualizzare le due liste."
      ]
    },
    {
      "cell_type": "code",
      "metadata": {
        "colab": {
          "base_uri": "https://localhost:8080/"
        },
        "id": "Ah8owh4K0yK2",
        "outputId": "81dfb9d7-0c6d-463b-eee2-a86ff2324fbe"
      },
      "source": [
        "Lstoperatore=[int(input(\"inserisci un valore intero \\n\"))for _ in range(0,10)]\n",
        "\n",
        "Listapari=list(filter(lambda x: x%2 == 0,Lstoperatore))\n",
        "\n",
        "listadispari=list(filter(lambda x: x%2==1,Lstoperatore))\n",
        "\n",
        "print(Listapari)\n",
        "print(listadispari)\n",
        "\n"
      ],
      "execution_count": null,
      "outputs": [
        {
          "output_type": "stream",
          "name": "stdout",
          "text": [
            "inserisci un valore intero \n",
            "1\n",
            "inserisci un valore intero \n",
            "2\n",
            "inserisci un valore intero \n",
            "3\n",
            "inserisci un valore intero \n",
            "4\n",
            "inserisci un valore intero \n",
            "5\n",
            "inserisci un valore intero \n",
            "6\n",
            "inserisci un valore intero \n",
            "7\n",
            "inserisci un valore intero \n",
            "8\n",
            "inserisci un valore intero \n",
            "9\n",
            "inserisci un valore intero \n",
            "11\n",
            "[2, 4, 6, 8]\n",
            "[1, 3, 5, 7, 9, 11]\n"
          ]
        }
      ]
    },
    {
      "cell_type": "markdown",
      "metadata": {
        "id": "ndi_uXS_9LN1"
      },
      "source": [
        "7. Cercare su internet che cosa si intende per fattoriale di un numero. \n",
        "\n",
        "Scrivere poi una funzione ricorsiva che calcoli il fattoriale di un numero. Utilizzare poi la funzione creata per scrivere un programma che permetta all'utente di inserire un numero intero e che visualizzi il fattoriale di quel numero.\n",
        "\n"
      ]
    },
    {
      "cell_type": "code",
      "metadata": {
        "colab": {
          "base_uri": "https://localhost:8080/"
        },
        "id": "1iYG0LRd94yG",
        "outputId": "1abf2ddc-5f65-4a4a-95e2-ac6001909108"
      },
      "source": [
        "Nfattoriale=int(input())\n",
        "\n",
        "fattoriale= lambda n: 1 if n==0 else n*fattoriale(n-1)\n",
        "\n",
        "print(fattoriale(Nfattoriale))\n"
      ],
      "execution_count": null,
      "outputs": [
        {
          "output_type": "stream",
          "name": "stdout",
          "text": [
            "32\n",
            "263130836933693530167218012160000000\n"
          ]
        }
      ]
    },
    {
      "cell_type": "markdown",
      "metadata": {
        "id": "59-OWC8G-8sC"
      },
      "source": [
        "8. Svolgere l'esercizio 7, senza ricorsione"
      ]
    },
    {
      "cell_type": "code",
      "metadata": {
        "id": "u3K2jAq1-9ct",
        "colab": {
          "base_uri": "https://localhost:8080/"
        },
        "outputId": "d97a2526-3cc3-4211-91a3-2a34c1397d3d"
      },
      "source": [
        "NsenzaRicorsione=int(input('Inserire il numero: '))\n",
        "z=1\n",
        "\n",
        "for i in range(1,NsenzaRicorsione+1):\n",
        "    z*=i\n",
        "    \n",
        "print(z)"
      ],
      "execution_count": null,
      "outputs": [
        {
          "output_type": "stream",
          "name": "stdout",
          "text": [
            "Inserire il numero: 10\n",
            "3628800\n"
          ]
        }
      ]
    },
    {
      "cell_type": "markdown",
      "metadata": {
        "id": "GvuEaGtN_zF_"
      },
      "source": [
        "9. Cercare su internet che cosa sono i numeri di Fibonacci. Scrivere poi una funzione ricorsiva che calcoli l'n-esimo numero della sequenza di Fibonacci. Utilizzare poi la funzione creata per scrivere un programma che permetta all'utente di inserire un numero intero e che visualizzi il numero della sequenza di Fibonacci corrispondente."
      ]
    },
    {
      "cell_type": "code",
      "metadata": {
        "colab": {
          "base_uri": "https://localhost:8080/"
        },
        "id": "bfyBcdG4_z-R",
        "outputId": "4ca44d2b-63ee-423a-e80e-3b039f4f8c6a"
      },
      "source": [
        "FibonacciN=int(input('Inserire il numero: '))\n",
        "\n",
        "def fibonacci(n):\n",
        "  if n <= 1:\n",
        "    return 1\n",
        "  else:\n",
        "    return fibonacci(n-1) + fibonacci(n-2)\n",
        "\n",
        "print(fibonacci(FibonacciN))\n",
        "\n"
      ],
      "execution_count": null,
      "outputs": [
        {
          "output_type": "stream",
          "name": "stdout",
          "text": [
            "Inserire il numero: 4\n",
            "5\n"
          ]
        }
      ]
    }
  ]
}
