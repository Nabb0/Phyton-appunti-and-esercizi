{
  "nbformat": 4,
  "nbformat_minor": 0,
  "metadata": {
    "colab": {
      "name": "CorrezioneVerificA.ipynb",
      "provenance": [],
      "authorship_tag": "ABX9TyNT8gBt9dRLr1vkgmLJAXqU"
    },
    "kernelspec": {
      "name": "python3",
      "display_name": "Python 3"
    },
    "language_info": {
      "name": "python"
    }
  },
  "cells": [
    {
      "cell_type": "code",
      "metadata": {
        "id": "lLmrBRYT0IwQ"
      },
      "source": [
        "1. scrivere un programma che calcoli la somma di due frazioni. L’utente deve inserire il numeratore e il denominatore della prima frazione e poi numeratore e denominatore della seconda frazione\n",
        " e il programma calcola la somma"
      ],
      "execution_count": null,
      "outputs": []
    },
    {
      "cell_type": "code",
      "metadata": {
        "colab": {
          "base_uri": "https://localhost:8080/"
        },
        "id": "3uW_2gbt0VBX",
        "outputId": "e16ffb3c-b878-452b-d3a4-407c31fb1de7"
      },
      "source": [
        "n1=int(input(\"inserire n1\"))\n",
        "d1=int(input(\"inserire d1\"))\n",
        "n2=int(input(\"inserire n1\"))\n",
        "d2=int(input(\"inserire d1\"))\n",
        "\n",
        "print(str(n1*d2+n2*d1) +\"/\"+(str(d1*d2)))"
      ],
      "execution_count": null,
      "outputs": [
        {
          "output_type": "stream",
          "name": "stdout",
          "text": [
            "inserire n11\n",
            "inserire d12\n",
            "inserire n12\n",
            "inserire d13\n",
            "7/6\n"
          ]
        }
      ]
    },
    {
      "cell_type": "markdown",
      "metadata": {
        "id": "HeYVyNYv2XMP"
      },
      "source": [
        "2.scrivere un programma che permetta di verificare se un orario è scritto correttamente. Un orario è scritto correttamente se è formato da 5 caratteri di cui il terzo è il carattere : . Ad esempio 13:45 è scritto correttamente 123:4 non è scritto correttamente.\n"
      ]
    },
    {
      "cell_type": "code",
      "metadata": {
        "colab": {
          "base_uri": "https://localhost:8080/"
        },
        "id": "8DAUVBjP2T94",
        "outputId": "37b35c74-63d2-4784-9217-0c15b59740d0"
      },
      "source": [
        "Orario=input(\"inserisci l'orario\")\n",
        "if len(Orario) ==5:                      #parametro attuale\n",
        "  if Orario[2] == \":\":\n",
        "   print(\"Orario corretto\")\n",
        "  else:\n",
        "   print(\"ci sono dei errori\")\n",
        "else:\n",
        "   print(\"ci sono dei errori\")\n"
      ],
      "execution_count": null,
      "outputs": [
        {
          "output_type": "stream",
          "name": "stdout",
          "text": [
            "inserisci l'orario12:12\n",
            "Orario corretto\n"
          ]
        }
      ]
    },
    {
      "cell_type": "markdown",
      "metadata": {
        "id": "vYnE2pEG6ELw"
      },
      "source": [
        "3. scrivere un programma che visualizzi le prime dieci potenze di un numero inserito dall’utente. Ad esempio se l’utente inserisse 2 il programma dovrebbe visualizzare i valori 1, 2, 4, 8, 16, 32, 64, 128, 256 e 512. Separare i valori con il trattino -\n"
      ]
    },
    {
      "cell_type": "code",
      "metadata": {
        "colab": {
          "base_uri": "https://localhost:8080/"
        },
        "id": "jjh9uAbn6I9A",
        "outputId": "8d03d1d0-8f17-40b2-a6bf-a5d3fbdb017f"
      },
      "source": [
        "numero=int(input(\"inserisci il numero\"))\n",
        "\n",
        "for i in range(0,10):\n",
        "  print(numero**i)\n"
      ],
      "execution_count": null,
      "outputs": [
        {
          "output_type": "stream",
          "name": "stdout",
          "text": [
            "inserisci il numero2\n",
            "1\n",
            "2\n",
            "4\n",
            "8\n",
            "16\n",
            "32\n",
            "64\n",
            "128\n",
            "256\n",
            "512\n"
          ]
        }
      ]
    },
    {
      "cell_type": "markdown",
      "metadata": {
        "id": "HOA1kIYQ7SZK"
      },
      "source": [
        "4.scrivere un programma che carichi in una lista le prime venti potenze di un numero inserito dall’utente. Al termine visualizzare gli ultimi tre elementi della lista.\n"
      ]
    },
    {
      "cell_type": "code",
      "metadata": {
        "colab": {
          "base_uri": "https://localhost:8080/"
        },
        "id": "gJaMbMFI7VGB",
        "outputId": "172055f5-9c1c-43e7-f5e4-f23ec0e49306"
      },
      "source": [
        "potenze=[]\n",
        "numero = int(input(\"inserisci il numero\"))\n",
        "\n",
        "for i in range(0,20):\n",
        "  potenze.append(numero**i)\n",
        "print(potenze[-3:])\n"
      ],
      "execution_count": null,
      "outputs": [
        {
          "output_type": "stream",
          "name": "stdout",
          "text": [
            "inserisci il numero2\n",
            "[131072, 262144, 524288]\n"
          ]
        }
      ]
    },
    {
      "cell_type": "code",
      "metadata": {
        "colab": {
          "base_uri": "https://localhost:8080/"
        },
        "id": "Dl9mES3D8uu5",
        "outputId": "b036b4c5-4769-4d40-cb5c-1846860e78b7"
      },
      "source": [
        "\n",
        "numero= int(input(\"inserisci il numero\"))\n",
        "potenza=[numero**i for i in range (0,10)]\n",
        "print(potenza[-3:])\n"
      ],
      "execution_count": null,
      "outputs": [
        {
          "output_type": "stream",
          "name": "stdout",
          "text": [
            "inserisci il numero2\n",
            "[128, 256, 512]\n"
          ]
        }
      ]
    },
    {
      "cell_type": "markdown",
      "metadata": {
        "id": "JKRXZ-hb_9ky"
      },
      "source": [
        "5.scrivere un programma che elimini dalla lista precedente tutti i numeri compresi tra due estremi inseriti dall’utente. Visualizzare al termine la lista modificata\n"
      ]
    },
    {
      "cell_type": "code",
      "metadata": {
        "colab": {
          "base_uri": "https://localhost:8080/"
        },
        "id": "HqXXpFUVAByC",
        "outputId": "402a16c7-76ca-4dbc-d10a-b0e9f8fa60a8"
      },
      "source": [
        "e1=int(input(\"inserisci un estremo\"))\n",
        "e1=int(input(\"inserisci un estremo\"))\n",
        "print(potenze)\n",
        "for i in range(0,10):\n",
        "  if e1<potenze[i]<e2:\n",
        "    potenze.remove(potenze[i])\n",
        "print(potenze)"
      ],
      "execution_count": null,
      "outputs": [
        {
          "output_type": "stream",
          "name": "stdout",
          "text": [
            "inserisci un estremo100\n",
            "inserisci un estremo1000\n",
            "[1, 2, 4, 8, 16, 32, 64, 128, 256, 512, 1024, 2048, 4096, 8192, 16384, 32768, 65536, 131072, 262144, 524288]\n",
            "[1, 2, 4, 8, 16, 32, 64, 128, 256, 512, 1024, 2048, 4096, 8192, 16384, 32768, 65536, 131072, 262144, 524288]\n"
          ]
        }
      ]
    },
    {
      "cell_type": "markdown",
      "metadata": {
        "id": "wLH7k54zEhNU"
      },
      "source": [
        "6.scrivere una funzione chiamata prodotto che data una lista di numeri interi restituisca il prodotto di tutti i suoi elementi. Ad esempio se la lista fosse [2, 5, 3] la funzione restituirebbe 30"
      ]
    },
    {
      "cell_type": "code",
      "metadata": {
        "colab": {
          "base_uri": "https://localhost:8080/"
        },
        "id": "8-3Xu7lOEnGL",
        "outputId": "3da4bf18-3b75-4d5d-9cc3-f1c693c8ee3d"
      },
      "source": [
        "\n",
        "\n",
        "def prodotto (l):      #parametro formale\n",
        " totale=1\n",
        " for e in l:\n",
        "   totale=totale*e\n",
        " return totale \n",
        "\n",
        "lista=[int(elemento)for elemento in input().split()]\n",
        "\n",
        "print(prodotto(lista))\n",
        "\n",
        "\n",
        "\n"
      ],
      "execution_count": null,
      "outputs": [
        {
          "output_type": "stream",
          "name": "stdout",
          "text": [
            "2 4\n",
            "8\n"
          ]
        }
      ]
    },
    {
      "cell_type": "markdown",
      "metadata": {
        "id": "Z__fRzNAIBv8"
      },
      "source": [
        "scrivere un programma che permetta di caricare in una struttura dati opportuna i nomi delle nazioni che compongono l’Unione Europea, le loro capitali e la popolazione (inserire solo tre nazioni). "
      ]
    },
    {
      "cell_type": "code",
      "metadata": {
        "id": "-E8b_N13ICUt"
      },
      "source": [
        "unioneEuropea=[{\"nome\": \"italia\",\"capitale\":\"roma\",\"popolazione\":\"60 000 000\"},\n",
        "               {\"nome\": \"francia \",\"capitale\":\"parigi\",\"popolazione\":\"58 000 000\"},\n",
        "               {\"nome\": \"germania\",\"capitale\":\"berlino\",\"popolazione\":\"80 000 000\"} ]\n",
        "nazione=input(\"inserisci una nazione\")\n"
      ],
      "execution_count": null,
      "outputs": []
    },
    {
      "cell_type": "markdown",
      "metadata": {
        "id": "9oeWWwLrJ2Om"
      },
      "source": [
        "scrivere un programma che, utilizzando una lambda function e la funzione map, elevi alla terza tutti gli elementi della lista. La lista deve essere caricata dall’utente.\n"
      ]
    },
    {
      "cell_type": "code",
      "metadata": {
        "colab": {
          "base_uri": "https://localhost:8080/"
        },
        "id": "4qSpnXZDJ2_e",
        "outputId": "9bfeb9be-8cef-4179-8c8f-0a20dda849a5"
      },
      "source": [
        "lista=[int(elemento)for elemento in input().split()]\n",
        "\n",
        "listafinale=list(map(lambda x:x**3,lista))\n",
        "print(listafinale)"
      ],
      "execution_count": null,
      "outputs": [
        {
          "output_type": "stream",
          "name": "stdout",
          "text": [
            "1 7 12 4 \n",
            "[1, 343, 1728, 64]\n"
          ]
        }
      ]
    },
    {
      "cell_type": "markdown",
      "metadata": {
        "id": "elspJ6UUKaLg"
      },
      "source": [
        "scrivere una funzione che calcoli in modo ricorsivo il prodotto tra due numeri.\n"
      ]
    },
    {
      "cell_type": "code",
      "metadata": {
        "colab": {
          "base_uri": "https://localhost:8080/"
        },
        "id": "z6_sPVeXKar5",
        "outputId": "576830ba-ecf3-4430-89ec-1cef8e991cfe"
      },
      "source": [
        "def prodotto2 (f1,f2):\n",
        "  if f2==1:\n",
        "    return f1\n",
        "  else:\n",
        "   return f1+prodotto2(f1,f2-1)\n",
        "\n",
        "prodotto2(5,4)"
      ],
      "execution_count": null,
      "outputs": [
        {
          "output_type": "execute_result",
          "data": {
            "text/plain": [
              "20"
            ]
          },
          "metadata": {},
          "execution_count": 48
        }
      ]
    }
  ]
}
