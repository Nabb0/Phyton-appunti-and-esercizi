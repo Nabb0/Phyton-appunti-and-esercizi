{
  "nbformat": 4,
  "nbformat_minor": 0,
  "metadata": {
    "colab": {
      "name": "Esercizio_4.ipynb",
      "provenance": [],
      "authorship_tag": "ABX9TyPc6+KEXr9pJ/cNs93deeSa"
    },
    "kernelspec": {
      "name": "python3",
      "display_name": "Python 3"
    },
    "language_info": {
      "name": "python"
    }
  },
  "cells": [
    {
      "cell_type": "markdown",
      "metadata": {
        "id": "_2W7EPyhruW2"
      },
      "source": [
        "1. scrivere una funzione chiamata media che dati due numeri restituisca la media. Utilizzare poi la funzione in un programma che acquisisca dall'utente due numeri e calcoli la media"
      ]
    },
    {
      "cell_type": "code",
      "metadata": {
        "colab": {
          "base_uri": "https://localhost:8080/"
        },
        "id": "niwtm1pXrvBO",
        "outputId": "17ae18ec-18ca-4903-de46-90c26fae8578"
      },
      "source": [
        "x = int(input())\n",
        "y = int(input())\n",
        "\n",
        "def media (x,y):\n",
        " return (x+y)/2\n",
        " \n",
        "print(media(x,y))\n"
      ],
      "execution_count": null,
      "outputs": [
        {
          "output_type": "stream",
          "name": "stdout",
          "text": [
            "8\n",
            "9\n",
            "8.5\n"
          ]
        }
      ]
    },
    {
      "cell_type": "markdown",
      "metadata": {
        "id": "BLqmDjmIxoXv"
      },
      "source": [
        "2. scrivere una funzione chiamata piuCorta che date due liste restituisca la lista con meno elementi. Utilizzare poi la funzione in un programma che acquisisca dall'utente due liste e visualizzi gli elementi della lista più corta."
      ]
    },
    {
      "cell_type": "code",
      "metadata": {
        "colab": {
          "base_uri": "https://localhost:8080/"
        },
        "id": "etW0a6dJxq4N",
        "outputId": "9647d92c-52c6-41a9-c294-27719fefb521"
      },
      "source": [
        "List1=[input(\"crea la tua lista inserendo i valori che vuoi ma dividdi li con una virgola \\n\")]\n",
        "List2=[input(\"crea la tua lista inserendo i valori che vuoi ma dividdi li con una virgola \\n\")]\n",
        "\n",
        "def piuCorta(List1,List2):\n",
        "\n",
        " if len(List1) < len(List2):\n",
        "   print(List1)\n",
        " else:\n",
        "   print(List2)\n",
        " return\n",
        "\n",
        "piuCorta(List1,List2)\n",
        "\n",
        "\n",
        "\n",
        "\n",
        "\n",
        "\n"
      ],
      "execution_count": null,
      "outputs": [
        {
          "output_type": "stream",
          "name": "stdout",
          "text": [
            "crea la tua lista inserendo i valori che vuoi ma dividdi li con una virgola \n",
            "8,9\n",
            "crea la tua lista inserendo i valori che vuoi ma dividdi li con una virgola \n",
            "8\n",
            "['8']\n"
          ]
        }
      ]
    },
    {
      "cell_type": "markdown",
      "metadata": {
        "id": "dJh13HdVzbk-"
      },
      "source": [
        "3. scrivere una funzione chiamata costruisciLista che dati due numeri interi restituisca la lista formata da tutti i numeri interi compresi tra i due numeri dati. Utilizzare poi la funzione in un programma che acquisisca dall'utente due numeri e visualizzi la lista formata da tutti i numeri interi compresi tra i due numeri dati ma a partire dal più grande fino al più piccolo."
      ]
    },
    {
      "cell_type": "code",
      "metadata": {
        "colab": {
          "base_uri": "https://localhost:8080/"
        },
        "id": "A3RFn2l4zoWN",
        "outputId": "a6773d4c-9b82-4237-f9a7-76fab4cf8c78"
      },
      "source": [
        "n1=int(input())\n",
        "n2=int(input())\n",
        "\n",
        "def costruisciLista(n1,n2):\n",
        "  \n",
        "  return [ i for i in range(n1,n2)]\n",
        "\n",
        "print(sorted(costruisciLista(n1,n2+1),reverse=True))\n",
        "\n",
        "\n"
      ],
      "execution_count": null,
      "outputs": [
        {
          "output_type": "stream",
          "name": "stdout",
          "text": [
            "2\n",
            "9\n",
            "[9, 8, 7, 6, 5, 4, 3, 2]\n"
          ]
        }
      ]
    },
    {
      "cell_type": "markdown",
      "metadata": {
        "id": "6KJsqiQd3LEm"
      },
      "source": [
        "4. scrivere una funzione chiamata valoreAssoluto che dato un numero restituisca il suo valore assoluto. Utilizzare poi questa funzione per determinare il valore assoluto degli elementi di una lista inserita dall'utente."
      ]
    },
    {
      "cell_type": "code",
      "metadata": {
        "id": "Nz1xKlDf3Lz1",
        "colab": {
          "base_uri": "https://localhost:8080/"
        },
        "outputId": "7a55537e-b941-4313-c7ec-eda26ae14777"
      },
      "source": [
        "l1=input().split(\",\")\n",
        "def valoreAssoluto (n):\n",
        "  return  abs(n)\n",
        "\n",
        "for i in l1:\n",
        "  print(valoreAssoluto(float(i)))\n",
        "\n",
        "\n",
        "\n",
        "  \n"
      ],
      "execution_count": null,
      "outputs": [
        {
          "output_type": "stream",
          "name": "stdout",
          "text": [
            "8,9,5\n",
            "8.0\n",
            "9.0\n",
            "5.0\n"
          ]
        }
      ]
    },
    {
      "cell_type": "markdown",
      "metadata": {
        "id": "gqBBgR_U3V9T"
      },
      "source": [
        "5. scrivere una funzione chiamata scambia che data una lista scambi il primo elemento con l'ultimo, il secondo con il penultimo e così via. Utilizzare poi la funzione in un programma che acquisisca dall'utente una lista di 10 elementi e li visualizzi scambiati.\n"
      ]
    },
    {
      "cell_type": "code",
      "metadata": {
        "colab": {
          "base_uri": "https://localhost:8080/"
        },
        "id": "RSI-mzYyGLO0",
        "outputId": "69ee67ee-5c8d-4a08-d4eb-f39fae4ed42b"
      },
      "source": [
        "listagirata=[int(input())for i in range(10)]\n",
        "\n",
        "def scambia(listagirata1):\n",
        "  listagirata1.reverse()\n",
        "  return listagirata1\n",
        "\n",
        "print (scambia(listagirata))\n",
        "  \n",
        "\n"
      ],
      "execution_count": null,
      "outputs": [
        {
          "output_type": "stream",
          "name": "stdout",
          "text": [
            "1\n",
            "2\n",
            "3\n",
            "4\n",
            "5\n",
            "6\n",
            "7\n",
            "8\n",
            "9\n",
            "5\n",
            "[5, 9, 8, 7, 6, 5, 4, 3, 2, 1]\n"
          ]
        }
      ]
    },
    {
      "cell_type": "markdown",
      "metadata": {
        "id": "tmqC2kku8cvS"
      },
      "source": [
        "6. scrivere una funzione lambda che dati due numeri calcoli la loro somma. Utilizzare la funzione in un programma che chieda all'utente due numeri interi e visualizzi la loro somma."
      ]
    },
    {
      "cell_type": "code",
      "metadata": {
        "colab": {
          "base_uri": "https://localhost:8080/"
        },
        "id": "Mg7wD6WKHzSr",
        "outputId": "3166c848-d4c9-43b3-9b19-0bd0fbc64787"
      },
      "source": [
        "x=int(input())\n",
        "y=int(input())\n",
        "\n",
        "l= lambda x,y: x+y \n",
        "print(l(x,y))"
      ],
      "execution_count": null,
      "outputs": [
        {
          "output_type": "stream",
          "name": "stdout",
          "text": [
            "5\n",
            "4\n",
            "9\n"
          ]
        }
      ]
    },
    {
      "cell_type": "markdown",
      "metadata": {
        "id": "WHx9xucf9hPz"
      },
      "source": [
        "7. scrivere un programma che utilizzi una lambda function per aumentare di 10 unità tutti gli elementi di una lista di interi inserita dall'utente.\n"
      ]
    },
    {
      "cell_type": "code",
      "metadata": {
        "colab": {
          "base_uri": "https://localhost:8080/"
        },
        "id": "Lh-oqkYGIdSq",
        "outputId": "2d885f18-9800-4d6e-d7e8-5e34ce05effe"
      },
      "source": [
        "lista=[int(input())for i in range(10)]\n",
        "\n",
        "pippo=lambda li:[x+10 for x in li ]\n",
        "print(pippo(lista))"
      ],
      "execution_count": null,
      "outputs": [
        {
          "output_type": "stream",
          "name": "stdout",
          "text": [
            "10\n",
            "20\n",
            "30\n",
            "40\n",
            "5\n",
            "5\n",
            "56\n",
            "6\n",
            "8\n",
            "8\n",
            "[20, 30, 40, 50, 15, 15, 66, 16, 18, 18]\n"
          ]
        }
      ]
    },
    {
      "cell_type": "markdown",
      "metadata": {
        "id": "McXdlRBS9nda"
      },
      "source": [
        "8. scrivere una funzione lambda che sostituisca il valore 0 se il parametro è negativo, il valore del parametro se è positivo. Utilizzare poi la funzione in un programma che chieda all'utente i 10 elementi di una lista e visualizzi la lista con il valore 0 al posto dei numeri negativi."
      ]
    },
    {
      "cell_type": "markdown",
      "metadata": {
        "id": "XdxlJtKS9t46"
      },
      "source": [
        "9. scrivere un programma che calcoli il fattoriale di un numero utilizzando una lambda function. Provare a realizzare una lambda function ricorsiva (per la ricorsione, google it...)"
      ]
    }
  ]
}