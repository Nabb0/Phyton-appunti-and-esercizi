{
  "nbformat": 4,
  "nbformat_minor": 0,
  "metadata": {
    "colab": {
      "name": "Esercizio 5.ipynb",
      "provenance": [],
      "collapsed_sections": [],
      "authorship_tag": "ABX9TyP05CQj6qKefeOv6CIySmu4"
    },
    "kernelspec": {
      "name": "python3",
      "display_name": "Python 3"
    },
    "language_info": {
      "name": "python"
    }
  },
  "cells": [
    {
      "cell_type": "markdown",
      "metadata": {
        "id": "6IYMb5Tb7uAv"
      },
      "source": [
        "1. scrivere una funzione chiamata max che dati due numeri restituisca il più grande. Scrivere poi un programma che, utilizzando la funzione creata, trovi il massimo tra tre numeri inseriti dall'utente. \n"
      ]
    },
    {
      "cell_type": "code",
      "metadata": {
        "id": "P0juo5uX7weX"
      },
      "source": [
        "def max(a, b):\n",
        "  return a if a > b else b\n",
        "\n",
        "\n",
        "num1 = int(input(\"scegli il primo valore: \"))\n",
        "num2 = int(input(\"scegli il secondo valore:\"))\n",
        "num3 = int(input(\"scegli il terzo valore: \"))\n",
        "\n",
        "max(max(num1, num2), num3)"
      ],
      "execution_count": null,
      "outputs": []
    },
    {
      "cell_type": "markdown",
      "metadata": {
        "id": "5VZZKRgs77xl"
      },
      "source": [
        "\n",
        "2. scrivere una funzione chiamata sommaLista che data una lista di interi restituisca la somma di tutti gli elementi della lista. Scrivere poi un programma che, utilizzando la funzione create, trovi la somma degli elementi di una lista inserita dall'utente. \n",
        "\n"
      ]
    },
    {
      "cell_type": "code",
      "metadata": {
        "id": "ErxNxnGF79CT"
      },
      "source": [
        "def sommaLista(lista):\n",
        "    return sum(lista)\n",
        "\n",
        "lst = [int(n) for n in input('Inserisci una lista').split(' ')]\n",
        "print(sommaLista(lst))"
      ],
      "execution_count": null,
      "outputs": []
    },
    {
      "cell_type": "markdown",
      "metadata": {
        "id": "w3tRh25H8C2-"
      },
      "source": [
        "4. scrivere una funzione chiamata controlla che dato un numero e due estremi restituisca True se il numero è compreso tra i due estremi, false altrimenti. Utilizzare poi la funzione per trovare il numero di elementi di una lista di numeri interi (inserita dall'utente) compresi tra due estremi (inseriti anch'essi dall'utente)"
      ]
    },
    {
      "cell_type": "code",
      "metadata": {
        "id": "XmM0fsN08MDX"
      },
      "source": [
        "def is_between(n, n_max, n_min):\n",
        "  return n_min < n < n_max\n",
        "\n",
        "l1 = input(\"Inserisci la lista\").split(\" \")\n",
        "l1 = [int(n) for n in l1]\n",
        "\n",
        "n_max = int(input('Inserire il numero massimo'))\n",
        "n_min = int(input('Inserire il numero minimo'))\n",
        "\n",
        "num = 0\n",
        "for el in l1:\n",
        "  if is_between(el, n_max, n_min):\n",
        "    num += 1 \n",
        "\n",
        "print(str(num))"
      ],
      "execution_count": null,
      "outputs": []
    },
    {
      "cell_type": "markdown",
      "metadata": {
        "id": "4DMPpMuV8NPZ"
      },
      "source": [
        "6. scrivere una funzione chiamata confrontaListe che date due liste restituisca True se le due liste sono uguali, False altrimenti. Utilizzare poi la funzione in un programma che dica se una lista di interi è palindroma, cioè se può essere letta indifferentemente da sinistra a destra e da destra a sinistra. Ad esempio la lista [1, 2, 3, 4, 3, 2, 1] è palindroma, la lista [1, 2, 3, 4, 3,1, 2] non lo è.\n"
      ]
    },
    {
      "cell_type": "code",
      "metadata": {
        "id": "kP3opw3f8y8Y"
      },
      "source": [
        "def confrontaListe(list1,list2):\n",
        "  return list1 == list2\n",
        "\n",
        "lista = input('Inserire una lista').split(' ')\n",
        "confrontaListe(lista, lista[::-1])"
      ],
      "execution_count": null,
      "outputs": []
    },
    {
      "cell_type": "markdown",
      "metadata": {
        "id": "xz85D2cs81Yw"
      },
      "source": [
        "7. scrivere una funzione chiamata celsiusToFahrenheit che data una temperatura in gradi Celsius restituisca il valore convertito in gradi Fahrenheit (per ulteriori info, google it). Scrivere poi un programma che data una lista di temperature in gradi Celsius,inserita dall'utente, converta tutte le temperature in gradi Fahrenheit.\n"
      ]
    },
    {
      "cell_type": "code",
      "metadata": {
        "id": "veZmCbbs9GpA"
      },
      "source": [
        "def celsiusToFahrenheit(celsius):\n",
        "  fahrenheit = (celsius*9/5)+32\n",
        "  return fahrenheit\n",
        "\n",
        "celsiusToFahrenheit(int(input(\"Inserisci la temperatura in gradi celsius: \")))"
      ],
      "execution_count": null,
      "outputs": []
    }
  ]
}
