{
  "nbformat": 4,
  "nbformat_minor": 0,
  "metadata": {
    "colab": {
      "name": "esercizio1.ipynb",
      "provenance": []
    },
    "kernelspec": {
      "name": "python3",
      "display_name": "Python 3"
    },
    "language_info": {
      "name": "python"
    }
  },
  "cells": [
    {
      "cell_type": "markdown",
      "metadata": {
        "id": "j1Q6q1kZgaKC"
      },
      "source": [
        "a. far inserire all'utente due valori interi"
      ]
    },
    {
      "cell_type": "code",
      "metadata": {
        "colab": {
          "base_uri": "https://localhost:8080/"
        },
        "id": "TFdWmd7WgtFu",
        "outputId": "579489c8-294f-45ea-8baf-033a02ca755b"
      },
      "source": [
        "num1=int(input(\"inserire la prima variabile intera \"))\n",
        "num2=int(input(\"inserire la seconda variabile intera \"))\n"
      ],
      "execution_count": null,
      "outputs": [
        {
          "name": "stdout",
          "output_type": "stream",
          "text": [
            "inserire la prima variabile intera 5\n",
            "inserire la seconda variabile intera 10\n"
          ]
        }
      ]
    },
    {
      "cell_type": "markdown",
      "metadata": {
        "id": "W9waC-C5hgiP"
      },
      "source": [
        "b. effettuare le 4 operazioni aritmetiche tra i due numeri"
      ]
    },
    {
      "cell_type": "code",
      "metadata": {
        "colab": {
          "base_uri": "https://localhost:8080/"
        },
        "id": "ojrseqYbhuFV",
        "outputId": "96d116e7-eee5-487b-e9cf-98530902196b"
      },
      "source": [
        "print(num1,\"+\",num2,\"=\",(num1+num2))\n",
        "print(num1,\"-\",num2,\"=\",(num1-num2))\n",
        "print(num1,\"/\",num2,\"=\",(num1/num2))\n",
        "print(num1,\"*\",num2,\"=\",(num1*num2))\n"
      ],
      "execution_count": null,
      "outputs": [
        {
          "output_type": "stream",
          "name": "stdout",
          "text": [
            "5 + 10 = 15\n",
            "5 - 10 = -5\n",
            "5 / 10 = 0.5\n",
            "5 * 10 = 50\n"
          ]
        }
      ]
    },
    {
      "cell_type": "markdown",
      "metadata": {
        "id": "ASwG0e6Ak2lW"
      },
      "source": [
        "c. effettuare l'elevamento a potenza del primo numero per il secondo"
      ]
    },
    {
      "cell_type": "code",
      "metadata": {
        "colab": {
          "base_uri": "https://localhost:8080/"
        },
        "id": "t43djD6hk3Rg",
        "outputId": "31cef1ff-ce92-40a1-ff80-6b62b6a526f9"
      },
      "source": [
        "print(num1,\"**\",num2,\"=\",num1**num2)"
      ],
      "execution_count": null,
      "outputs": [
        {
          "output_type": "stream",
          "name": "stdout",
          "text": [
            "5 ** 10 = 9765625\n"
          ]
        }
      ]
    },
    {
      "cell_type": "markdown",
      "metadata": {
        "id": "5LUV0_BLlDjd"
      },
      "source": [
        "d. effettuare il calcolo del resto della divisione tra il primo e il secondo numero"
      ]
    },
    {
      "cell_type": "code",
      "metadata": {
        "colab": {
          "base_uri": "https://localhost:8080/"
        },
        "id": "bv11sIdLlEnm",
        "outputId": "d54ddf29-078e-4405-f8f3-a9e58c1fbca7"
      },
      "source": [
        "print(num1,\"%\",num2,\"=\",num1%num2)"
      ],
      "execution_count": null,
      "outputs": [
        {
          "output_type": "stream",
          "name": "stdout",
          "text": [
            "5 % 10 = 5\n"
          ]
        }
      ]
    },
    {
      "cell_type": "markdown",
      "metadata": {
        "id": "58gI3xfsldzN"
      },
      "source": [
        "f. effettuare la divisione intera tra il primo e il secondo numero"
      ]
    },
    {
      "cell_type": "code",
      "metadata": {
        "colab": {
          "base_uri": "https://localhost:8080/"
        },
        "id": "d1NJ_Mculjem",
        "outputId": "b3e92d3c-9f76-43f7-9434-d688ac104b22"
      },
      "source": [
        "print(num1,\"//\",num2,\"=\",num1//num2)"
      ],
      "execution_count": null,
      "outputs": [
        {
          "output_type": "stream",
          "name": "stdout",
          "text": [
            "5 // 10 = 0\n"
          ]
        }
      ]
    },
    {
      "cell_type": "markdown",
      "metadata": {
        "id": "MOVineRFltku"
      },
      "source": [
        "g. incrementare di una unità entrambi i numeri"
      ]
    },
    {
      "cell_type": "code",
      "metadata": {
        "colab": {
          "base_uri": "https://localhost:8080/"
        },
        "id": "h7TdgaGDluNm",
        "outputId": "a4345de8-6c20-42a9-ff66-a694320217c7"
      },
      "source": [
        "num1=num1+1\n",
        "num2=num2+1\n",
        "print(num1)\n",
        "print(num2)"
      ],
      "execution_count": null,
      "outputs": [
        {
          "output_type": "stream",
          "name": "stdout",
          "text": [
            "6\n",
            "11\n"
          ]
        }
      ]
    },
    {
      "cell_type": "markdown",
      "metadata": {
        "id": "FQcHivHPowYm"
      },
      "source": [
        "h. far inserie all'utente due valori: il primo rappresenta la sua altezza (in metri) e il secondo rappresenta il suo peso (in kg). Visualizzare poi l'IMC\n"
      ]
    },
    {
      "cell_type": "code",
      "metadata": {
        "colab": {
          "base_uri": "https://localhost:8080/"
        },
        "id": "8sJ-ejvTozgl",
        "outputId": "d70848c2-d68f-4e8d-94d4-eee1d9e68134"
      },
      "source": [
        "y=float(input(\"inserire la propria altezza in metri\"))\n",
        "x=float(input(\"inserire il proprio peso in kg\"))\n",
        "imc=x/(y**2)\n",
        "print(imc)"
      ],
      "execution_count": null,
      "outputs": [
        {
          "output_type": "stream",
          "name": "stdout",
          "text": [
            "inserire la propria altezza in metri1.80\n",
            "inserire il proprio peso in kg75\n",
            "23.148148148148145\n"
          ]
        }
      ]
    },
    {
      "cell_type": "markdown",
      "metadata": {
        "id": "v7xJPBjWsCiF"
      },
      "source": [
        "i. arrotondare l'IMC precedente"
      ]
    },
    {
      "cell_type": "code",
      "metadata": {
        "colab": {
          "base_uri": "https://localhost:8080/"
        },
        "id": "le_dRGrzsJCP",
        "outputId": "ea8aa828-c46e-4c62-c448-7740da1e9b10"
      },
      "source": [
        "print(round(imc))"
      ],
      "execution_count": null,
      "outputs": [
        {
          "output_type": "stream",
          "name": "stdout",
          "text": [
            "23\n"
          ]
        }
      ]
    },
    {
      "cell_type": "markdown",
      "metadata": {
        "id": "FcqMjuj7tHus"
      },
      "source": [
        "j. visualizzare il proprio nome, cognome, data di nascita e città di nascita separando le informazioni con un trattino."
      ]
    },
    {
      "cell_type": "code",
      "metadata": {
        "colab": {
          "base_uri": "https://localhost:8080/"
        },
        "id": "2hFGFPC0tI28",
        "outputId": "75562fdf-7ef1-4311-ddbb-a6158e6dd675"
      },
      "source": [
        "print(\"Valentino-Riva-30/09/2005-Milano\")"
      ],
      "execution_count": null,
      "outputs": [
        {
          "output_type": "stream",
          "name": "stdout",
          "text": [
            "Valentino-Riva-30/09/2005-Milano\n"
          ]
        }
      ]
    },
    {
      "cell_type": "markdown",
      "metadata": {
        "id": "3QIHcm-3uHl-"
      },
      "source": [
        "k. visualizzare le stesse informazioni per 10 volte di seguito"
      ]
    },
    {
      "cell_type": "code",
      "metadata": {
        "colab": {
          "base_uri": "https://localhost:8080/"
        },
        "id": "hNJbWa4ouIqV",
        "outputId": "522a5084-5525-4089-d47f-f29ca47f20ca"
      },
      "source": [
        "print( \"Valentino-Riva-30/09/2005-Milano\"*10)"
      ],
      "execution_count": null,
      "outputs": [
        {
          "output_type": "stream",
          "name": "stdout",
          "text": [
            "Valentino-Riva-30/09/2005-MilanoValentino-Riva-30/09/2005-MilanoValentino-Riva-30/09/2005-MilanoValentino-Riva-30/09/2005-MilanoValentino-Riva-30/09/2005-MilanoValentino-Riva-30/09/2005-MilanoValentino-Riva-30/09/2005-MilanoValentino-Riva-30/09/2005-MilanoValentino-Riva-30/09/2005-MilanoValentino-Riva-30/09/2005-Milano\n"
          ]
        }
      ]
    },
    {
      "cell_type": "markdown",
      "metadata": {
        "id": "RT5GBwF6vDQd"
      },
      "source": [
        "l. assegnare il proprio nome e cognome ad una stringa e visualizzarla con tutte le lettere maiuscole"
      ]
    },
    {
      "cell_type": "code",
      "metadata": {
        "colab": {
          "base_uri": "https://localhost:8080/"
        },
        "id": "Dd11DwKcvNc0",
        "outputId": "7de0dc81-731c-46ac-e6c5-91972f856076"
      },
      "source": [
        "nomecognome = \"valentino riva\" \n",
        "print(nomecognome.upper())\n"
      ],
      "execution_count": null,
      "outputs": [
        {
          "output_type": "stream",
          "name": "stdout",
          "text": [
            "VALENTINO RIVA\n"
          ]
        }
      ]
    },
    {
      "cell_type": "markdown",
      "metadata": {
        "id": "KkTBAACd3-iM"
      },
      "source": [
        "m. assegnare il proprio nome e cognome ad una stringa e visualizzarla con le prime lettere maiuscole"
      ]
    },
    {
      "cell_type": "code",
      "metadata": {
        "colab": {
          "base_uri": "https://localhost:8080/"
        },
        "id": "uSHOxTToPuax",
        "outputId": "ac136bd6-18fc-4af6-d950-7f7215c536af"
      },
      "source": [
        "nomecognome= \"valentino riva\"\n",
        "print(nomecognome.title())"
      ],
      "execution_count": null,
      "outputs": [
        {
          "output_type": "stream",
          "name": "stdout",
          "text": [
            "Valentino Riva\n"
          ]
        }
      ]
    },
    {
      "cell_type": "markdown",
      "metadata": {
        "id": "B7Pc5886QPO-"
      },
      "source": [
        "n. assegnare il proprio nome e cognome ad una stringa e visualizzarne la lunghezza\n",
        "\n"
      ]
    },
    {
      "cell_type": "code",
      "metadata": {
        "colab": {
          "base_uri": "https://localhost:8080/"
        },
        "id": "sDZ6XpI_QUjv",
        "outputId": "20757955-e67b-4044-8a63-33b9240e5f71"
      },
      "source": [
        "nomecognome=\"Valentino Riva\"\n",
        "print(len(nomecognome))"
      ],
      "execution_count": null,
      "outputs": [
        {
          "output_type": "stream",
          "name": "stdout",
          "text": [
            "14\n"
          ]
        }
      ]
    },
    {
      "cell_type": "markdown",
      "metadata": {
        "id": "5ZlzAmJwQtFb"
      },
      "source": [
        "o. assegnare il proprio nome e cognome ad una stringa e contate quante vocali contiene"
      ]
    },
    {
      "cell_type": "code",
      "metadata": {
        "colab": {
          "base_uri": "https://localhost:8080/"
        },
        "id": "xzdSK2WDQuAV",
        "outputId": "4da880fb-bdaa-4554-cd46-abd7d2cd1f8d"
      },
      "source": [
        "nomecognome=\"Valentino Riva\"\n",
        "vocali=nomecognome.count(\"a\")+nomecognome.count(\"e\")+nomecognome.count(\"i\") +nomecognome.count(\"o\")+nomecognome.count(\"u\")\n",
        "\n",
        "print (vocali)\n"
      ],
      "execution_count": null,
      "outputs": [
        {
          "output_type": "stream",
          "name": "stdout",
          "text": [
            "6\n"
          ]
        }
      ]
    },
    {
      "cell_type": "markdown",
      "metadata": {
        "id": "6FPC4_fzUgKL"
      },
      "source": [
        "p. assegnare il proprio nome e cognome ad una stringa e visualizzare i primi 5 caratteri"
      ]
    },
    {
      "cell_type": "code",
      "metadata": {
        "colab": {
          "base_uri": "https://localhost:8080/"
        },
        "id": "PBZ6HxgFUiXj",
        "outputId": "771aa5d6-1be9-41e8-b38b-250ca60758a1"
      },
      "source": [
        "nomecognome=\"Valentino Riva\"\n",
        "print(nomecognome[0:5])"
      ],
      "execution_count": null,
      "outputs": [
        {
          "output_type": "stream",
          "name": "stdout",
          "text": [
            "Valen\n"
          ]
        }
      ]
    },
    {
      "cell_type": "markdown",
      "metadata": {
        "id": "xY0PL1U3VIks"
      },
      "source": [
        "q. assegnare il proprio nome e cognome ad una stringa e visualizzare gli ultimi 5 caratteri"
      ]
    },
    {
      "cell_type": "code",
      "metadata": {
        "colab": {
          "base_uri": "https://localhost:8080/"
        },
        "id": "ADbrSHX-VQZW",
        "outputId": "bcc65ec3-1ef2-48b8-d41d-3dd73895570b"
      },
      "source": [
        "nomecognome=\"Valentino Riva\"\n",
        "print(nomecognome[-5:])"
      ],
      "execution_count": null,
      "outputs": [
        {
          "output_type": "stream",
          "name": "stdout",
          "text": [
            " Riva\n"
          ]
        }
      ]
    },
    {
      "cell_type": "markdown",
      "metadata": {
        "id": "6r1APgj2VkOM"
      },
      "source": [
        "r. assegnare il proprio nome e cognome ad una stringa e visualizzare i 5 caratteri centrali"
      ]
    },
    {
      "cell_type": "code",
      "metadata": {
        "colab": {
          "base_uri": "https://localhost:8080/"
        },
        "id": "sJ7UoVl4VmXp",
        "outputId": "56f6b518-7573-4967-897c-fcbbb3f23510"
      },
      "source": [
        "nomecognome=\"Valentino Riva\"\n",
        "y=len(nomecognome) //2 \n",
        "print(nomecognome[y-2:y+3])"
      ],
      "execution_count": null,
      "outputs": [
        {
          "output_type": "stream",
          "name": "stdout",
          "text": [
            "tino \n"
          ]
        }
      ]
    },
    {
      "cell_type": "markdown",
      "metadata": {
        "id": "9UFEr42pW3xW"
      },
      "source": [
        "s. assegnare il proprio nome e cognome ad una stringa e sostituire le vocali con una X"
      ]
    },
    {
      "cell_type": "code",
      "metadata": {
        "colab": {
          "base_uri": "https://localhost:8080/"
        },
        "id": "d5y61JcLW8Vb",
        "outputId": "5195f372-15bd-43b5-e2c7-40a8226be5b9"
      },
      "source": [
        "nomecognome=\"Valentino Riva\"\n",
        "print(nomecognome.lower().replace(\"a\",\"x\").replace(\"e\",\"x\").replace(\"i\",\"x\").replace(\"o\",\"x\").replace(\"u\",\"x\"))"
      ],
      "execution_count": null,
      "outputs": [
        {
          "output_type": "stream",
          "name": "stdout",
          "text": [
            "vxlxntxnx rxvx\n"
          ]
        }
      ]
    }
  ]
}