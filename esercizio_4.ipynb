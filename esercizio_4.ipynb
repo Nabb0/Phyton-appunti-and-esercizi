{
  "nbformat": 4,
  "nbformat_minor": 0,
  "metadata": {
    "colab": {
      "name": " Esercizio_4.ipynb",
      "provenance": []
    },
    "kernelspec": {
      "name": "python3",
      "display_name": "Python 3"
    },
    "language_info": {
      "name": "python"
    }
  },
  "cells": [
    {
      "cell_type": "markdown",
      "metadata": {
        "id": "_2W7EPyhruW2"
      },
      "source": [
        "1. scrivere una funzione chiamata media che dati due numeri restituisca la media. Utilizzare poi la funzione in un programma che acquisisca dall'utente due numeri e calcoli la media"
      ]
    },
    {
      "cell_type": "code",
      "metadata": {
        "colab": {
          "base_uri": "https://localhost:8080/"
        },
        "id": "niwtm1pXrvBO",
        "outputId": "17ae18ec-18ca-4903-de46-90c26fae8578"
      },
      "source": [
        "x = int(input())\n",
        "y = int(input())\n",
        "\n",
        "def media (x,y):\n",
        " return (x+y)/2\n",
        " \n",
        "print(media(x,y))\n"
      ],
      "execution_count": null,
      "outputs": [
        {
          "output_type": "stream",
          "name": "stdout",
          "text": [
            "8\n",
            "9\n",
            "8.5\n"
          ]
        }
      ]
    },
    {
      "cell_type": "markdown",
      "metadata": {
        "id": "BLqmDjmIxoXv"
      },
      "source": [
        "2. scrivere una funzione chiamata piuCorta che date due liste restituisca la lista con meno elementi. Utilizzare poi la funzione in un programma che acquisisca dall'utente due liste e visualizzi gli elementi della lista più corta."
      ]
    },
    {
      "cell_type": "code",
      "metadata": {
        "colab": {
          "base_uri": "https://localhost:8080/"
        },
        "id": "etW0a6dJxq4N",
        "outputId": "9647d92c-52c6-41a9-c294-27719fefb521"
      },
      "source": [
        "List1=[input(\"crea la tua lista inserendo i valori che vuoi ma dividdi li con una virgola \\n\")]\n",
        "List2=[input(\"crea la tua lista inserendo i valori che vuoi ma dividdi li con una virgola \\n\")]\n",
        "\n",
        "def piuCorta(List1,List2):\n",
        "\n",
        " if len(List1) < len(List2):\n",
        "   print(List1)\n",
        " else:\n",
        "   print(List2)\n",
        " return\n",
        "\n",
        "piuCorta(List1,List2)\n",
        "\n",
        "\n",
        "\n",
        "\n",
        "\n",
        "\n"
      ],
      "execution_count": null,
      "outputs": [
        {
          "output_type": "stream",
          "name": "stdout",
          "text": [
            "crea la tua lista inserendo i valori che vuoi ma dividdi li con una virgola \n",
            "8,9\n",
            "crea la tua lista inserendo i valori che vuoi ma dividdi li con una virgola \n",
            "8\n",
            "['8']\n"
          ]
        }
      ]
    },
    {
      "cell_type": "markdown",
      "metadata": {
        "id": "dJh13HdVzbk-"
      },
      "source": [
        "3. scrivere una funzione chiamata costruisciLista che dati due numeri interi restituisca la lista formata da tutti i numeri interi compresi tra i due numeri dati. Utilizzare poi la funzione in un programma che acquisisca dall'utente due numeri e visualizzi la lista formata da tutti i numeri interi compresi tra i due numeri dati ma a partire dal più grande fino al più piccolo."
      ]
    },
    {
      "cell_type": "code",
      "metadata": {
        "colab": {
          "base_uri": "https://localhost:8080/"
        },
        "id": "A3RFn2l4zoWN",
        "outputId": "a6773d4c-9b82-4237-f9a7-76fab4cf8c78"
      },
      "source": [
        "n1=int(input())\n",
        "n2=int(input())\n",
        "\n",
        "def costruisciLista(n1,n2):\n",
        "  \n",
        "  return [ i for i in range(n1,n2)]\n",
        "\n",
        "print(sorted(costruisciLista(n1,n2+1),reverse=True))\n",
        "\n",
        "\n"
      ],
      "execution_count": null,
      "outputs": [
        {
          "output_type": "stream",
          "name": "stdout",
          "text": [
            "2\n",
            "9\n",
            "[9, 8, 7, 6, 5, 4, 3, 2]\n"
          ]
        }
      ]
    },
    {
      "cell_type": "markdown",
      "metadata": {
        "id": "6KJsqiQd3LEm"
      },
      "source": [
        "4. scrivere una funzione chiamata valoreAssoluto che dato un numero restituisca il suo valore assoluto. Utilizzare poi questa funzione per determinare il valore assoluto degli elementi di una lista inserita dall'utente."
      ]
    },
    {
      "cell_type": "code",
      "metadata": {
        "id": "Nz1xKlDf3Lz1",
        "colab": {
          "base_uri": "https://localhost:8080/"
        },
        "outputId": "7a55537e-b941-4313-c7ec-eda26ae14777"
      },
      "source": [
        "l1=input().split(\",\")\n",
        "def valoreAssoluto (n):\n",
        "  return  abs(n)\n",
        "\n",
        "for i in l1:\n",
        "  print(valoreAssoluto(float(i)))\n",
        "\n",
        "\n",
        "\n",
        "  \n"
      ],
      "execution_count": null,
      "outputs": [
        {
          "output_type": "stream",
          "name": "stdout",
          "text": [
            "8,9,5\n",
            "8.0\n",
            "9.0\n",
            "5.0\n"
          ]
        }
      ]
    },
    {
      "cell_type": "markdown",
      "metadata": {
        "id": "gqBBgR_U3V9T"
      },
      "source": [
        "5. scrivere una funzione chiamata scambia che data una lista scambi il primo elemento con l'ultimo, il secondo con il penultimo e così via. Utilizzare poi la funzione in un programma che acquisisca dall'utente una lista di 10 elementi e li visualizzi scambiati.\n"
      ]
    },
    {
      "cell_type": "code",
      "metadata": {
        "colab": {
          "base_uri": "https://localhost:8080/"
        },
        "id": "RSI-mzYyGLO0",
        "outputId": "6848bf70-37ef-4f76-d967-a19897841fee"
      },
      "source": [
        "elementi=[int(input())for i in range(0,4)] \n",
        "elementi2=[int(input())for i in range(0,4)]\n",
        "\n",
        "def scambia(lista): #def scambia(lista) listra parametro formale\n",
        "  lista.reverse()\n",
        "  return lista\n",
        "\n",
        "print(scambia(elementi)) #scambia (elementi) elementi parametro attuale\n",
        "print(scambia(elementi2)) #scambia (elementi) elementi parametro attuale\n",
        "  \n",
        "\n",
        "\n",
        "\n"
      ],
      "execution_count": null,
      "outputs": [
        {
          "output_type": "stream",
          "name": "stdout",
          "text": [
            "1\n",
            "2\n",
            "3\n",
            "4\n",
            "5\n",
            "6\n",
            "7\n",
            "8\n",
            "[4, 3, 2, 1]\n",
            "[8, 7, 6, 5]\n"
          ]
        }
      ]
    },
    {
      "cell_type": "markdown",
      "metadata": {
        "id": "tmqC2kku8cvS"
      },
      "source": [
        "6. scrivere una funzione lambda che dati due numeri calcoli la loro somma. Utilizzare la funzione in un programma che chieda all'utente due numeri interi e visualizzi la loro somma."
      ]
    },
    {
      "cell_type": "code",
      "metadata": {
        "colab": {
          "base_uri": "https://localhost:8080/"
        },
        "id": "Mg7wD6WKHzSr",
        "outputId": "a46c5e0a-2a09-4f17-df0e-2415312ad3f5"
      },
      "source": [
        "def math(a,b):\n",
        "  return a+b\n",
        "\n",
        "\n",
        "\n",
        "x=int(input())\n",
        "y=int(input())\n",
        "\n",
        "l= lambda x,y: x+y #funzioni anonime , funzioni in una sola riga \n",
        "print(l(x,y))"
      ],
      "execution_count": null,
      "outputs": [
        {
          "name": "stdout",
          "output_type": "stream",
          "text": [
            "2\n",
            "4\n"
          ]
        }
      ]
    },
    {
      "cell_type": "markdown",
      "metadata": {
        "id": "WHx9xucf9hPz"
      },
      "source": [
        "7. scrivere un programma che utilizzi una lambda function per aumentare di 10 unità tutti gli elementi di una lista di interi inserita dall'utente.\n"
      ]
    },
    {
      "cell_type": "code",
      "metadata": {
        "id": "Lh-oqkYGIdSq"
      },
      "source": [
        "lista=[int(input())for i in range(10)]\n",
        "\n",
        "pippo=lambda li:[x+10 for x in li ]\n",
        "print(pippo(lista))\n",
        "#map e una funzione che applica ad ogni elemento di una lista(2 parametro) una funzione \n",
        " "
      ],
      "execution_count": null,
      "outputs": []
    },
    {
      "cell_type": "markdown",
      "metadata": {
        "id": "McXdlRBS9nda"
      },
      "source": [
        "8. scrivere una funzione lambda che sostituisca il valore 0 se il parametro è negativo, il valore del parametro se è positivo. Utilizzare poi la funzione in un programma che chieda all'utente i 10 elementi di una lista e visualizzi la lista con il valore 0 al posto dei numeri negativi."
      ]
    },
    {
      "cell_type": "code",
      "metadata": {
        "colab": {
          "base_uri": "https://localhost:8080/"
        },
        "id": "UXNp2jhN0XVp",
        "outputId": "7f46a70f-90ae-4861-ec08-f1976b6164cd"
      },
      "source": [
        "def sost(valore):\n",
        "  if valore<0:\n",
        "    return 0\n",
        "  else:\n",
        "    return valore\n",
        "\n",
        "lst=[int(input())for i in range(0,4)]  \n",
        "lst2=[sost(elemento) for elemento in lst]\n",
        "\n",
        "print(lst)\n",
        "\n",
        "print(lst2)\n",
        "\n",
        "\n",
        "\n",
        "     \n"
      ],
      "execution_count": null,
      "outputs": [
        {
          "output_type": "stream",
          "name": "stdout",
          "text": [
            "1\n",
            "-5\n",
            "+3\n",
            "-9\n",
            "[1, -5, 3, -9]\n",
            "[1, 0, 3, 0]\n"
          ]
        }
      ]
    },
    {
      "cell_type": "code",
      "metadata": {
        "colab": {
          "base_uri": "https://localhost:8080/"
        },
        "id": "egXxHF0J6IlJ",
        "outputId": "589e1636-22e1-46c0-8fe4-a0f2f4f25ae2"
      },
      "source": [
        "sost2= lambda x: x if x>=0 else 0\n",
        "lst3=[ sost2(elemento) for elemento in lst]\n",
        "print(lst3)"
      ],
      "execution_count": null,
      "outputs": [
        {
          "output_type": "stream",
          "name": "stdout",
          "text": [
            "[1, 0, 3, 0]\n"
          ]
        }
      ]
    },
    {
      "cell_type": "markdown",
      "metadata": {
        "id": "XdxlJtKS9t46"
      },
      "source": [
        "9. scrivere un programma che calcoli il fattoriale di un numero utilizzando una lambda function. Provare a realizzare una lambda function ricorsiva (per la ricorsione, google it...)"
      ]
    },
    {
      "cell_type": "code",
      "metadata": {
        "colab": {
          "base_uri": "https://localhost:8080/"
        },
        "id": "aIJI_oX658Xq",
        "outputId": "0b040345-3c03-4e35-eb2c-146cdaaaab23"
      },
      "source": [
        "fattoriale= lambda n: 1 if n==0 else n*fattoriale(n-1)\n",
        "fattoriale(100)  #gli memorizza nello stack arriva fino a 968"
      ],
      "execution_count": null,
      "outputs": [
        {
          "output_type": "execute_result",
          "data": {
            "text/plain": [
              "93326215443944152681699238856266700490715968264381621468592963895217599993229915608941463976156518286253697920827223758251185210916864000000000000000000000000"
            ]
          },
          "metadata": {},
          "execution_count": 19
        }
      ]
    }
  ]
}
