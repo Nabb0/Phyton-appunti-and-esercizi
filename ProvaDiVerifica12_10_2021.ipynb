{
  "nbformat": 4,
  "nbformat_minor": 0,
  "metadata": {
    "colab": {
      "name": "ProvaDiVerifica12/10/2021.ipynb",
      "provenance": []
    },
    "kernelspec": {
      "name": "python3",
      "display_name": "Python 3"
    },
    "language_info": {
      "name": "python"
    }
  },
  "cells": [
    {
      "cell_type": "code",
      "metadata": {
        "id": "NnqGidCQ-yBz"
      },
      "source": [
        "1. scrivere un programma che permetta all'utente di inserire tre valori e visualizzi quello intermedio."
      ],
      "execution_count": null,
      "outputs": []
    },
    {
      "cell_type": "code",
      "metadata": {
        "colab": {
          "base_uri": "https://localhost:8080/"
        },
        "id": "DgLf_N0f-5mH",
        "outputId": "5220bb5e-53be-48e1-afa5-165b5cfd7c7d"
      },
      "source": [
        "val1=int(input(\"inserisci un valore\"))\n",
        "val2=int(input(\"inserisci un valore\"))\n",
        "val3=int(input(\"inserisci un valore\"))\n",
        "\n",
        "if val1<val2<val3 or val3<val2<val1:\n",
        "  print(val2)\n",
        "\n",
        "if val2<val1<val3 or val3<val1<val2:\n",
        "       print(val1)\n",
        "\n",
        "if val2<val3<val1 or val1<val3<val2:\n",
        "   print(val3)\n",
        "\n",
        " \n",
        " \n",
        " \n",
        " "
      ],
      "execution_count": 24,
      "outputs": [
        {
          "output_type": "stream",
          "name": "stdout",
          "text": [
            "inserisci un valore50\n",
            "inserisci un valore9\n",
            "inserisci un valore8\n",
            "9\n"
          ]
        }
      ]
    },
    {
      "cell_type": "markdown",
      "metadata": {
        "id": "_4jc_KQwBQ4m"
      },
      "source": [
        "2. scrivere un programma che permetta all'utente di caricare una lista di numeri interi ed un valore e carichi in un'altra lista tutti gli elementi della prima lista che sono multipli del valore inserito. Al termnine visualizzare entrambe le liste."
      ]
    },
    {
      "cell_type": "code",
      "metadata": {
        "colab": {
          "base_uri": "https://localhost:8080/"
        },
        "id": "jXlJ_D9QBTu1",
        "outputId": "55370e2f-86c7-415f-ded9-4586d0bef5d1"
      },
      "source": [
        "listanum=[int(ele) for ele in input(\"inserire i numeri\").split()]\n",
        "valore=int(input(\"inserire un valore\"))\n",
        "listafinale=[]\n",
        "\n",
        "for numero in listanum:\n",
        "  if numero%valore ==0:\n",
        "   listafinale.append(numero)\n",
        "print(listanum)\n",
        "print(listafinale)"
      ],
      "execution_count": 9,
      "outputs": [
        {
          "output_type": "stream",
          "name": "stdout",
          "text": [
            "inserire i numeri20\n",
            "inserire un valore30\n",
            "[20]\n",
            "[]\n"
          ]
        }
      ]
    },
    {
      "cell_type": "code",
      "metadata": {
        "colab": {
          "base_uri": "https://localhost:8080/"
        },
        "id": "cYAbFk3_C0OV",
        "outputId": "629c657e-4b3d-4f8b-b01c-c48757295b28"
      },
      "source": [
        "listanum=[int(ele) for ele in input(\"inserire i numeri\").split()]\n",
        "valore=int(input(\"inserire un valore\"))\n",
        "listafinale=[num for num in listanum if num%valore ==0]\n",
        "print(listafinale)"
      ],
      "execution_count": null,
      "outputs": [
        {
          "output_type": "stream",
          "name": "stdout",
          "text": [
            "inserire i numeri5 8 12 5 18\n",
            "inserire un valore5\n",
            "[5, 5]\n"
          ]
        }
      ]
    },
    {
      "cell_type": "markdown",
      "metadata": {
        "id": "7PFh5W7rDag2"
      },
      "source": [
        "3. scrivere un programma che permetta all'utente di memorizzare in un dizionario i numeri di telefono dei propri amici. L'utente deve poter inserire i nomi e i numeri."
      ]
    },
    {
      "cell_type": "code",
      "metadata": {
        "colab": {
          "base_uri": "https://localhost:8080/"
        },
        "id": "m3hi1-IbDdhm",
        "outputId": "ac87b248-3539-439c-f5b8-479819bca462"
      },
      "source": [
        "nomi=[s for s in input().split()]\n",
        "numero=[s for s in input().split()]\n",
        "rubrica = dict((nomi,numero)for nomi,numeri in zip(nomi,numero))\n",
        "print(rubrica)"
      ],
      "execution_count": null,
      "outputs": [
        {
          "output_type": "stream",
          "name": "stdout",
          "text": [
            "mario luigi\n",
            "3 4\n",
            "{'mario': '3', 'luigi': '4'}\n"
          ]
        }
      ]
    },
    {
      "cell_type": "markdown",
      "metadata": {
        "id": "G-LJxmATExm2"
      },
      "source": [
        "4. scrivere un programma che dato il dizionario dell'esercizio precedente, permetta all'utente di inserire un nome e avere il numero di telefono corrispondente"
      ]
    },
    {
      "cell_type": "code",
      "metadata": {
        "colab": {
          "base_uri": "https://localhost:8080/"
        },
        "id": "1R1BOU32E0Fd",
        "outputId": "3a7127aa-c4d0-4281-fabb-92839290b793"
      },
      "source": [
        "nome= input()\n",
        "print(rubrica[nome])"
      ],
      "execution_count": null,
      "outputs": [
        {
          "output_type": "stream",
          "name": "stdout",
          "text": [
            "luigi\n",
            "4\n"
          ]
        }
      ]
    },
    {
      "cell_type": "markdown",
      "metadata": {
        "id": "jjXKS59SFif2"
      },
      "source": [
        "5. scrivere una funzione che dato il raggio calcoli la superficie del cerchio avente quel raggio. Chiamare al funzione superficie,. Il valore di ritorno deve avere tre cifre decimali."
      ]
    },
    {
      "cell_type": "code",
      "metadata": {
        "colab": {
          "base_uri": "https://localhost:8080/"
        },
        "id": "1vC8h3MrFjS1",
        "outputId": "493991f7-f70a-4062-8d69-dab32d09b88b"
      },
      "source": [
        "import math\n",
        "\n",
        "\n",
        "def superfice(r):\n",
        "  return round( r**2 * math.pi,3) #pi greco\n",
        "superfice(int(input()))\n",
        "\n"
      ],
      "execution_count": 14,
      "outputs": [
        {
          "name": "stdout",
          "output_type": "stream",
          "text": [
            "3\n"
          ]
        },
        {
          "output_type": "execute_result",
          "data": {
            "text/plain": [
              "28.274"
            ]
          },
          "metadata": {},
          "execution_count": 14
        }
      ]
    },
    {
      "cell_type": "markdown",
      "metadata": {
        "id": "Fm1gTtjPGlWN"
      },
      "source": [
        "6. scrivere una funzione che, utilizzando la funzione superficie dell'esercizio precedente, permetta di calcolare il volume di un cilindro dato il raggio e l'altezza. Chiamare la funzione volume. "
      ]
    },
    {
      "cell_type": "code",
      "metadata": {
        "colab": {
          "base_uri": "https://localhost:8080/"
        },
        "id": "B7GsK1eoGpGX",
        "outputId": "e14af6c7-67f9-4d5f-a77b-0b578634cf2a"
      },
      "source": [
        "def volume(r,h):\n",
        "  return superfice(r)*h\n",
        "print(volume(5,10))"
      ],
      "execution_count": 15,
      "outputs": [
        {
          "output_type": "stream",
          "name": "stdout",
          "text": [
            "785.4000000000001\n"
          ]
        }
      ]
    },
    {
      "cell_type": "markdown",
      "metadata": {
        "id": "MicbeXwJHaf_"
      },
      "source": [
        "7. scrivere un programma che permetta di decrementare tutti gli elementi di una lista utilizzando una lambda function e la funzione map(). Far inserire all'utente gli elementi della lista."
      ]
    },
    {
      "cell_type": "code",
      "metadata": {
        "colab": {
          "base_uri": "https://localhost:8080/"
        },
        "id": "QzqzdKOqHbml",
        "outputId": "ffb3582a-1843-47cb-db81-6060e72ce447"
      },
      "source": [
        "numeri=[int(s) for s in input().split() ]\n",
        "decremento= list(map(lambda x:x - 1,numeri))\n",
        "print(numeri,decremento)\n"
      ],
      "execution_count": 16,
      "outputs": [
        {
          "output_type": "stream",
          "name": "stdout",
          "text": [
            "3 20 5\n",
            "[3, 20, 5] [2, 19, 4]\n"
          ]
        }
      ]
    },
    {
      "cell_type": "markdown",
      "metadata": {
        "id": "KfhpOFXnIp53"
      },
      "source": [
        "8. scrivere un programma che permetta di estrarre da una lista tutti i valori pari utilizzando una lambda function e la funzione filter(). Far inserire all'utente gli elementi della lista."
      ]
    },
    {
      "cell_type": "code",
      "metadata": {
        "colab": {
          "base_uri": "https://localhost:8080/"
        },
        "id": "YBcHLS9fIq6F",
        "outputId": "1a5bff88-2689-4f80-b5a3-64817da88428"
      },
      "source": [
        "numeri=[int(s) for s in input().split() ]\n",
        "numeriPari= list(filter(lambda x:x%2==0,numeri))\n",
        "print(numeri)\n",
        "print(numeriPari)"
      ],
      "execution_count": 17,
      "outputs": [
        {
          "output_type": "stream",
          "name": "stdout",
          "text": [
            "20 5 9 60 7\n",
            "[20, 5, 9, 60, 7]\n",
            "[20, 60]\n"
          ]
        }
      ]
    },
    {
      "cell_type": "markdown",
      "metadata": {
        "id": "NWNQh1shJQP-"
      },
      "source": [
        "9. scrivere una funzione ricorsiva per calcolare l'elevamento a potenza di un numero intero. La funzione ha due paramentri: numero ed esponente"
      ]
    },
    {
      "cell_type": "code",
      "metadata": {
        "id": "5ff4L2PbJQ9d",
        "colab": {
          "base_uri": "https://localhost:8080/"
        },
        "outputId": "53a08e5b-2ae5-4cc4-b826-54279114678d"
      },
      "source": [
        "def potenza(base,esponente):\n",
        " if esponente ==0:\n",
        "  return 1\n",
        " else:\n",
        "  return base*potenza(base,esponente-1)\n",
        "print(potenza(2,4))\n",
        "\n",
        "\n"
      ],
      "execution_count": 21,
      "outputs": [
        {
          "output_type": "stream",
          "name": "stdout",
          "text": [
            "16\n"
          ]
        }
      ]
    }
  ]
}